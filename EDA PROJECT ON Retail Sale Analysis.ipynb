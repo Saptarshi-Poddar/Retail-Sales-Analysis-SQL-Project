{
 "cells": [
  {
   "cell_type": "code",
   "execution_count": 1,
   "id": "f65b5550",
   "metadata": {},
   "outputs": [],
   "source": [
    "import pandas as pd\n",
    "import numpy as np\n",
    "import seaborn as sns\n",
    "import matplotlib.pyplot as plt"
   ]
  },
  {
   "cell_type": "code",
   "execution_count": 2,
   "id": "9cf5bc98",
   "metadata": {},
   "outputs": [],
   "source": [
    "df = pd.read_csv(r'C:\\Users\\sapta\\OneDrive\\Desktop\\SQL PROJECT\\SQL - Retail Sales Analysis_utf .csv')"
   ]
  },
  {
   "cell_type": "code",
   "execution_count": 3,
   "id": "dc4a78e8",
   "metadata": {},
   "outputs": [
    {
     "data": {
      "application/vnd.microsoft.datawrangler.viewer.v0+json": {
       "columns": [
        {
         "name": "index",
         "rawType": "int64",
         "type": "integer"
        },
        {
         "name": "transactions_id",
         "rawType": "int64",
         "type": "integer"
        },
        {
         "name": "sale_date",
         "rawType": "object",
         "type": "string"
        },
        {
         "name": "sale_time",
         "rawType": "object",
         "type": "string"
        },
        {
         "name": "customer_id",
         "rawType": "int64",
         "type": "integer"
        },
        {
         "name": "gender",
         "rawType": "object",
         "type": "string"
        },
        {
         "name": "age",
         "rawType": "float64",
         "type": "float"
        },
        {
         "name": "category",
         "rawType": "object",
         "type": "string"
        },
        {
         "name": "quantiy",
         "rawType": "float64",
         "type": "float"
        },
        {
         "name": "price_per_unit",
         "rawType": "float64",
         "type": "float"
        },
        {
         "name": "cogs",
         "rawType": "float64",
         "type": "float"
        },
        {
         "name": "total_sale",
         "rawType": "float64",
         "type": "float"
        }
       ],
       "ref": "49e70c52-2c13-4c0c-90e6-a9b329e2f2d2",
       "rows": [
        [
         "0",
         "180",
         "05-11-2022",
         "10:47:00",
         "117",
         "Male",
         "41.0",
         "Clothing",
         "3.0",
         "300.0",
         "129.0",
         "900.0"
        ],
        [
         "1",
         "522",
         "09-07-2022",
         "11:00:00",
         "52",
         "Male",
         "46.0",
         "Beauty",
         "3.0",
         "500.0",
         "145.0",
         "1500.0"
        ],
        [
         "2",
         "559",
         "12-12-2022",
         "10:48:00",
         "5",
         "Female",
         "40.0",
         "Clothing",
         "4.0",
         "300.0",
         "84.0",
         "1200.0"
        ],
        [
         "3",
         "1180",
         "06-01-2022",
         "08:53:00",
         "85",
         "Male",
         "41.0",
         "Clothing",
         "3.0",
         "300.0",
         "129.0",
         "900.0"
        ],
        [
         "4",
         "1522",
         "14-11-2022",
         "08:35:00",
         "48",
         "Male",
         "46.0",
         "Beauty",
         "3.0",
         "500.0",
         "235.0",
         "1500.0"
        ],
        [
         "5",
         "1559",
         "20-08-2022",
         "07:40:00",
         "49",
         "Female",
         "40.0",
         "Clothing",
         "4.0",
         "300.0",
         "144.0",
         "1200.0"
        ],
        [
         "6",
         "163",
         "31-10-2022",
         "09:38:00",
         "144",
         "Female",
         "64.0",
         "Clothing",
         "3.0",
         "50.0",
         "23.0",
         "150.0"
        ],
        [
         "7",
         "303",
         "22-04-2022",
         "11:09:00",
         "54",
         "Male",
         "19.0",
         "Electronics",
         "3.0",
         "30.0",
         "14.7",
         "90.0"
        ],
        [
         "8",
         "421",
         "08-04-2022",
         "08:43:00",
         "66",
         "Female",
         "37.0",
         "Clothing",
         "3.0",
         "500.0",
         "235.0",
         "1500.0"
        ],
        [
         "9",
         "979",
         "18-05-2022",
         "10:18:00",
         "6",
         "Female",
         "19.0",
         "Beauty",
         "1.0",
         "25.0",
         "10.5",
         "25.0"
        ],
        [
         "10",
         "1163",
         "04-05-2022",
         "10:52:00",
         "120",
         "Female",
         "64.0",
         "Clothing",
         "3.0",
         "50.0",
         "27.0",
         "150.0"
        ],
        [
         "11",
         "1303",
         "19-03-2022",
         "08:59:00",
         "58",
         "Male",
         "19.0",
         "Electronics",
         "3.0",
         "30.0",
         "15.0",
         "90.0"
        ],
        [
         "12",
         "1421",
         "17-01-2022",
         "07:07:00",
         "59",
         "Female",
         "37.0",
         "Clothing",
         "3.0",
         "500.0",
         "185.0",
         "1500.0"
        ],
        [
         "13",
         "1979",
         "17-08-2022",
         "11:34:00",
         "102",
         "Female",
         "19.0",
         "Beauty",
         "1.0",
         "25.0",
         "7.75",
         "25.0"
        ],
        [
         "14",
         "610",
         "18-12-2022",
         "06:56:00",
         "137",
         "Female",
         "26.0",
         "Beauty",
         "2.0",
         "300.0",
         "93.0",
         "600.0"
        ],
        [
         "15",
         "1610",
         "23-11-2022",
         "10:18:00",
         "1",
         "Female",
         "26.0",
         "Beauty",
         "2.0",
         "300.0",
         "102.0",
         "600.0"
        ],
        [
         "16",
         "32",
         "16-07-2022",
         "09:11:00",
         "150",
         "Male",
         "30.0",
         "Beauty",
         "3.0",
         "30.0",
         "8.4",
         "90.0"
        ],
        [
         "17",
         "231",
         "09-07-2022",
         "07:02:00",
         "50",
         "Female",
         "23.0",
         "Clothing",
         "3.0",
         "50.0",
         "26.5",
         "150.0"
        ],
        [
         "18",
         "683",
         "06-03-2022",
         "10:22:00",
         "82",
         "Male",
         "38.0",
         "Beauty",
         "2.0",
         "500.0",
         "175.0",
         "1000.0"
        ],
        [
         "19",
         "1032",
         "01-04-2022",
         "08:15:00",
         "1",
         "Male",
         "30.0",
         "Beauty",
         "3.0",
         "30.0",
         "10.5",
         "90.0"
        ],
        [
         "20",
         "1231",
         "29-01-2022",
         "07:05:00",
         "12",
         "Female",
         "23.0",
         "Clothing",
         "3.0",
         "50.0",
         "23.0",
         "150.0"
        ],
        [
         "21",
         "1683",
         "04-05-2022",
         "07:19:00",
         "98",
         "Male",
         "38.0",
         "Beauty",
         "2.0",
         "500.0",
         "220.0",
         "1000.0"
        ],
        [
         "22",
         "367",
         "30-12-2022",
         "07:03:00",
         "123",
         "Female",
         "57.0",
         "Electronics",
         "1.0",
         "50.0",
         "18.0",
         "50.0"
        ],
        [
         "23",
         "391",
         "25-03-2022",
         "07:37:00",
         "68",
         "Male",
         "19.0",
         "Beauty",
         "2.0",
         "25.0",
         "6.25",
         "50.0"
        ],
        [
         "24",
         "432",
         "10-03-2022",
         "11:31:00",
         "17",
         "Female",
         null,
         "Electronics",
         "2.0",
         "500.0",
         "190.0",
         "1000.0"
        ],
        [
         "25",
         "1367",
         "15-04-2022",
         "11:38:00",
         "16",
         "Female",
         null,
         "Electronics",
         "1.0",
         "50.0",
         "15.5",
         "50.0"
        ],
        [
         "26",
         "1391",
         "01-03-2022",
         "11:29:00",
         "130",
         "Male",
         null,
         "Beauty",
         "2.0",
         "25.0",
         "9.25",
         "50.0"
        ],
        [
         "27",
         "1432",
         "25-12-2022",
         "06:24:00",
         "67",
         "Female",
         null,
         "Electronics",
         "2.0",
         "500.0",
         "245.0",
         "1000.0"
        ],
        [
         "28",
         "150",
         "13-04-2022",
         "08:25:00",
         "89",
         "Female",
         null,
         "Electronics",
         "4.0",
         "30.0",
         "16.2",
         "120.0"
        ],
        [
         "29",
         "845",
         "27-10-2022",
         "10:12:00",
         "25",
         "Male",
         null,
         "Clothing",
         "1.0",
         "500.0",
         "145.0",
         "500.0"
        ],
        [
         "30",
         "1150",
         "22-08-2022",
         "10:04:00",
         "77",
         "Female",
         null,
         "Electronics",
         "4.0",
         "30.0",
         "10.2",
         "120.0"
        ],
        [
         "31",
         "1845",
         "24-05-2022",
         "07:06:00",
         "94",
         "Male",
         null,
         "Clothing",
         "1.0",
         "500.0",
         "185.0",
         "500.0"
        ],
        [
         "32",
         "797",
         "16-09-2022",
         "06:38:00",
         "116",
         "Male",
         null,
         "Clothing",
         "3.0",
         "25.0",
         "10.75",
         "75.0"
        ],
        [
         "33",
         "921",
         "28-09-2022",
         "09:34:00",
         "101",
         "Male",
         null,
         "Electronics",
         "3.0",
         "25.0",
         "8.0",
         "75.0"
        ],
        [
         "34",
         "1797",
         "16-04-2022",
         "11:47:00",
         "147",
         "Male",
         "40.0",
         "Clothing",
         "3.0",
         "25.0",
         "12.25",
         "75.0"
        ],
        [
         "35",
         "1921",
         "08-02-2022",
         "07:01:00",
         "77",
         "Male",
         "51.0",
         "Electronics",
         "3.0",
         "25.0",
         "7.5",
         "75.0"
        ],
        [
         "36",
         "291",
         "22-11-2022",
         "08:29:00",
         "15",
         "Male",
         "60.0",
         "Clothing",
         "2.0",
         "300.0",
         "126.0",
         "600.0"
        ],
        [
         "37",
         "907",
         "02-09-2022",
         "06:16:00",
         "145",
         "Female",
         "45.0",
         "Electronics",
         "1.0",
         "25.0",
         "8.5",
         "25.0"
        ],
        [
         "38",
         "1291",
         "04-04-2022",
         "11:19:00",
         "72",
         "Male",
         "60.0",
         "Clothing",
         "2.0",
         "300.0",
         "153.0",
         "600.0"
        ],
        [
         "39",
         "1907",
         "17-11-2022",
         "11:21:00",
         "115",
         "Female",
         "45.0",
         "Electronics",
         "1.0",
         "25.0",
         "9.0",
         "25.0"
        ],
        [
         "40",
         "860",
         "11-04-2022",
         "08:58:00",
         "85",
         "Male",
         "63.0",
         "Clothing",
         "4.0",
         "50.0",
         "16.0",
         "200.0"
        ],
        [
         "41",
         "1860",
         "12-03-2022",
         "11:21:00",
         "57",
         "Male",
         "63.0",
         "Clothing",
         "4.0",
         "50.0",
         "18.0",
         "200.0"
        ],
        [
         "42",
         "184",
         "13-02-2022",
         "06:44:00",
         "128",
         "Male",
         "31.0",
         "Electronics",
         "4.0",
         "50.0",
         "17.0",
         "200.0"
        ],
        [
         "43",
         "734",
         "12-03-2022",
         "08:54:00",
         "77",
         "Female",
         "27.0",
         "Clothing",
         "1.0",
         "30.0",
         "15.6",
         "30.0"
        ],
        [
         "44",
         "1184",
         "12-02-2022",
         "08:28:00",
         "23",
         "Male",
         "31.0",
         "Electronics",
         "4.0",
         "50.0",
         "27.5",
         "200.0"
        ],
        [
         "45",
         "1734",
         "28-02-2022",
         "08:58:00",
         "72",
         "Female",
         "27.0",
         "Clothing",
         "1.0",
         "30.0",
         "14.4",
         "30.0"
        ],
        [
         "46",
         "225",
         "05-03-2022",
         "07:37:00",
         "85",
         "Female",
         "57.0",
         "Beauty",
         "4.0",
         "25.0",
         "12.75",
         "100.0"
        ],
        [
         "47",
         "679",
         "26-08-2022",
         "08:59:00",
         "64",
         "Female",
         "18.0",
         "Beauty",
         null,
         null,
         null,
         null
        ],
        [
         "48",
         "746",
         "05-07-2022",
         "11:33:00",
         "42",
         "Female",
         "33.0",
         "Clothing",
         null,
         null,
         null,
         null
        ],
        [
         "49",
         "1225",
         "02-02-2022",
         "09:51:00",
         "137",
         "Female",
         "57.0",
         "Beauty",
         null,
         null,
         null,
         null
        ]
       ],
       "shape": {
        "columns": 11,
        "rows": 2000
       }
      },
      "text/html": [
       "<div>\n",
       "<style scoped>\n",
       "    .dataframe tbody tr th:only-of-type {\n",
       "        vertical-align: middle;\n",
       "    }\n",
       "\n",
       "    .dataframe tbody tr th {\n",
       "        vertical-align: top;\n",
       "    }\n",
       "\n",
       "    .dataframe thead th {\n",
       "        text-align: right;\n",
       "    }\n",
       "</style>\n",
       "<table border=\"1\" class=\"dataframe\">\n",
       "  <thead>\n",
       "    <tr style=\"text-align: right;\">\n",
       "      <th></th>\n",
       "      <th>transactions_id</th>\n",
       "      <th>sale_date</th>\n",
       "      <th>sale_time</th>\n",
       "      <th>customer_id</th>\n",
       "      <th>gender</th>\n",
       "      <th>age</th>\n",
       "      <th>category</th>\n",
       "      <th>quantiy</th>\n",
       "      <th>price_per_unit</th>\n",
       "      <th>cogs</th>\n",
       "      <th>total_sale</th>\n",
       "    </tr>\n",
       "  </thead>\n",
       "  <tbody>\n",
       "    <tr>\n",
       "      <th>0</th>\n",
       "      <td>180</td>\n",
       "      <td>05-11-2022</td>\n",
       "      <td>10:47:00</td>\n",
       "      <td>117</td>\n",
       "      <td>Male</td>\n",
       "      <td>41.0</td>\n",
       "      <td>Clothing</td>\n",
       "      <td>3.0</td>\n",
       "      <td>300.0</td>\n",
       "      <td>129.0</td>\n",
       "      <td>900.0</td>\n",
       "    </tr>\n",
       "    <tr>\n",
       "      <th>1</th>\n",
       "      <td>522</td>\n",
       "      <td>09-07-2022</td>\n",
       "      <td>11:00:00</td>\n",
       "      <td>52</td>\n",
       "      <td>Male</td>\n",
       "      <td>46.0</td>\n",
       "      <td>Beauty</td>\n",
       "      <td>3.0</td>\n",
       "      <td>500.0</td>\n",
       "      <td>145.0</td>\n",
       "      <td>1500.0</td>\n",
       "    </tr>\n",
       "    <tr>\n",
       "      <th>2</th>\n",
       "      <td>559</td>\n",
       "      <td>12-12-2022</td>\n",
       "      <td>10:48:00</td>\n",
       "      <td>5</td>\n",
       "      <td>Female</td>\n",
       "      <td>40.0</td>\n",
       "      <td>Clothing</td>\n",
       "      <td>4.0</td>\n",
       "      <td>300.0</td>\n",
       "      <td>84.0</td>\n",
       "      <td>1200.0</td>\n",
       "    </tr>\n",
       "    <tr>\n",
       "      <th>3</th>\n",
       "      <td>1180</td>\n",
       "      <td>06-01-2022</td>\n",
       "      <td>08:53:00</td>\n",
       "      <td>85</td>\n",
       "      <td>Male</td>\n",
       "      <td>41.0</td>\n",
       "      <td>Clothing</td>\n",
       "      <td>3.0</td>\n",
       "      <td>300.0</td>\n",
       "      <td>129.0</td>\n",
       "      <td>900.0</td>\n",
       "    </tr>\n",
       "    <tr>\n",
       "      <th>4</th>\n",
       "      <td>1522</td>\n",
       "      <td>14-11-2022</td>\n",
       "      <td>08:35:00</td>\n",
       "      <td>48</td>\n",
       "      <td>Male</td>\n",
       "      <td>46.0</td>\n",
       "      <td>Beauty</td>\n",
       "      <td>3.0</td>\n",
       "      <td>500.0</td>\n",
       "      <td>235.0</td>\n",
       "      <td>1500.0</td>\n",
       "    </tr>\n",
       "    <tr>\n",
       "      <th>...</th>\n",
       "      <td>...</td>\n",
       "      <td>...</td>\n",
       "      <td>...</td>\n",
       "      <td>...</td>\n",
       "      <td>...</td>\n",
       "      <td>...</td>\n",
       "      <td>...</td>\n",
       "      <td>...</td>\n",
       "      <td>...</td>\n",
       "      <td>...</td>\n",
       "      <td>...</td>\n",
       "    </tr>\n",
       "    <tr>\n",
       "      <th>1995</th>\n",
       "      <td>1857</td>\n",
       "      <td>09-11-2022</td>\n",
       "      <td>12:15:00</td>\n",
       "      <td>109</td>\n",
       "      <td>Male</td>\n",
       "      <td>60.0</td>\n",
       "      <td>Electronics</td>\n",
       "      <td>2.0</td>\n",
       "      <td>25.0</td>\n",
       "      <td>7.5</td>\n",
       "      <td>50.0</td>\n",
       "    </tr>\n",
       "    <tr>\n",
       "      <th>1996</th>\n",
       "      <td>211</td>\n",
       "      <td>12-09-2022</td>\n",
       "      <td>14:02:00</td>\n",
       "      <td>54</td>\n",
       "      <td>Male</td>\n",
       "      <td>42.0</td>\n",
       "      <td>Beauty</td>\n",
       "      <td>3.0</td>\n",
       "      <td>500.0</td>\n",
       "      <td>235.0</td>\n",
       "      <td>1500.0</td>\n",
       "    </tr>\n",
       "    <tr>\n",
       "      <th>1997</th>\n",
       "      <td>650</td>\n",
       "      <td>08-10-2023</td>\n",
       "      <td>12:41:00</td>\n",
       "      <td>98</td>\n",
       "      <td>Male</td>\n",
       "      <td>55.0</td>\n",
       "      <td>Electronics</td>\n",
       "      <td>1.0</td>\n",
       "      <td>30.0</td>\n",
       "      <td>15.0</td>\n",
       "      <td>30.0</td>\n",
       "    </tr>\n",
       "    <tr>\n",
       "      <th>1998</th>\n",
       "      <td>1211</td>\n",
       "      <td>22-11-2023</td>\n",
       "      <td>14:59:00</td>\n",
       "      <td>82</td>\n",
       "      <td>Male</td>\n",
       "      <td>42.0</td>\n",
       "      <td>Beauty</td>\n",
       "      <td>3.0</td>\n",
       "      <td>500.0</td>\n",
       "      <td>235.0</td>\n",
       "      <td>1500.0</td>\n",
       "    </tr>\n",
       "    <tr>\n",
       "      <th>1999</th>\n",
       "      <td>1650</td>\n",
       "      <td>23-09-2022</td>\n",
       "      <td>16:24:00</td>\n",
       "      <td>89</td>\n",
       "      <td>Male</td>\n",
       "      <td>55.0</td>\n",
       "      <td>Electronics</td>\n",
       "      <td>1.0</td>\n",
       "      <td>30.0</td>\n",
       "      <td>10.8</td>\n",
       "      <td>30.0</td>\n",
       "    </tr>\n",
       "  </tbody>\n",
       "</table>\n",
       "<p>2000 rows × 11 columns</p>\n",
       "</div>"
      ],
      "text/plain": [
       "      transactions_id   sale_date sale_time  customer_id  gender   age  \\\n",
       "0                 180  05-11-2022  10:47:00          117    Male  41.0   \n",
       "1                 522  09-07-2022  11:00:00           52    Male  46.0   \n",
       "2                 559  12-12-2022  10:48:00            5  Female  40.0   \n",
       "3                1180  06-01-2022  08:53:00           85    Male  41.0   \n",
       "4                1522  14-11-2022  08:35:00           48    Male  46.0   \n",
       "...               ...         ...       ...          ...     ...   ...   \n",
       "1995             1857  09-11-2022  12:15:00          109    Male  60.0   \n",
       "1996              211  12-09-2022  14:02:00           54    Male  42.0   \n",
       "1997              650  08-10-2023  12:41:00           98    Male  55.0   \n",
       "1998             1211  22-11-2023  14:59:00           82    Male  42.0   \n",
       "1999             1650  23-09-2022  16:24:00           89    Male  55.0   \n",
       "\n",
       "         category  quantiy  price_per_unit   cogs  total_sale  \n",
       "0        Clothing      3.0           300.0  129.0       900.0  \n",
       "1          Beauty      3.0           500.0  145.0      1500.0  \n",
       "2        Clothing      4.0           300.0   84.0      1200.0  \n",
       "3        Clothing      3.0           300.0  129.0       900.0  \n",
       "4          Beauty      3.0           500.0  235.0      1500.0  \n",
       "...           ...      ...             ...    ...         ...  \n",
       "1995  Electronics      2.0            25.0    7.5        50.0  \n",
       "1996       Beauty      3.0           500.0  235.0      1500.0  \n",
       "1997  Electronics      1.0            30.0   15.0        30.0  \n",
       "1998       Beauty      3.0           500.0  235.0      1500.0  \n",
       "1999  Electronics      1.0            30.0   10.8        30.0  \n",
       "\n",
       "[2000 rows x 11 columns]"
      ]
     },
     "execution_count": 3,
     "metadata": {},
     "output_type": "execute_result"
    }
   ],
   "source": [
    "df"
   ]
  },
  {
   "cell_type": "code",
   "execution_count": 4,
   "id": "c5a73b98",
   "metadata": {},
   "outputs": [
    {
     "data": {
      "text/plain": [
       "(2000, 11)"
      ]
     },
     "execution_count": 4,
     "metadata": {},
     "output_type": "execute_result"
    }
   ],
   "source": [
    "df.shape"
   ]
  },
  {
   "cell_type": "code",
   "execution_count": 5,
   "id": "7bf8f02b",
   "metadata": {},
   "outputs": [
    {
     "data": {
      "application/vnd.microsoft.datawrangler.viewer.v0+json": {
       "columns": [
        {
         "name": "index",
         "rawType": "int64",
         "type": "integer"
        },
        {
         "name": "transactions_id",
         "rawType": "int64",
         "type": "integer"
        },
        {
         "name": "sale_date",
         "rawType": "object",
         "type": "string"
        },
        {
         "name": "sale_time",
         "rawType": "object",
         "type": "string"
        },
        {
         "name": "customer_id",
         "rawType": "int64",
         "type": "integer"
        },
        {
         "name": "gender",
         "rawType": "object",
         "type": "string"
        },
        {
         "name": "age",
         "rawType": "float64",
         "type": "float"
        },
        {
         "name": "category",
         "rawType": "object",
         "type": "string"
        },
        {
         "name": "quantiy",
         "rawType": "float64",
         "type": "float"
        },
        {
         "name": "price_per_unit",
         "rawType": "float64",
         "type": "float"
        },
        {
         "name": "cogs",
         "rawType": "float64",
         "type": "float"
        },
        {
         "name": "total_sale",
         "rawType": "float64",
         "type": "float"
        }
       ],
       "ref": "588b4075-3ff1-49f9-b216-38905014f4b6",
       "rows": [
        [
         "0",
         "180",
         "05-11-2022",
         "10:47:00",
         "117",
         "Male",
         "41.0",
         "Clothing",
         "3.0",
         "300.0",
         "129.0",
         "900.0"
        ],
        [
         "1",
         "522",
         "09-07-2022",
         "11:00:00",
         "52",
         "Male",
         "46.0",
         "Beauty",
         "3.0",
         "500.0",
         "145.0",
         "1500.0"
        ],
        [
         "2",
         "559",
         "12-12-2022",
         "10:48:00",
         "5",
         "Female",
         "40.0",
         "Clothing",
         "4.0",
         "300.0",
         "84.0",
         "1200.0"
        ],
        [
         "3",
         "1180",
         "06-01-2022",
         "08:53:00",
         "85",
         "Male",
         "41.0",
         "Clothing",
         "3.0",
         "300.0",
         "129.0",
         "900.0"
        ],
        [
         "4",
         "1522",
         "14-11-2022",
         "08:35:00",
         "48",
         "Male",
         "46.0",
         "Beauty",
         "3.0",
         "500.0",
         "235.0",
         "1500.0"
        ]
       ],
       "shape": {
        "columns": 11,
        "rows": 5
       }
      },
      "text/html": [
       "<div>\n",
       "<style scoped>\n",
       "    .dataframe tbody tr th:only-of-type {\n",
       "        vertical-align: middle;\n",
       "    }\n",
       "\n",
       "    .dataframe tbody tr th {\n",
       "        vertical-align: top;\n",
       "    }\n",
       "\n",
       "    .dataframe thead th {\n",
       "        text-align: right;\n",
       "    }\n",
       "</style>\n",
       "<table border=\"1\" class=\"dataframe\">\n",
       "  <thead>\n",
       "    <tr style=\"text-align: right;\">\n",
       "      <th></th>\n",
       "      <th>transactions_id</th>\n",
       "      <th>sale_date</th>\n",
       "      <th>sale_time</th>\n",
       "      <th>customer_id</th>\n",
       "      <th>gender</th>\n",
       "      <th>age</th>\n",
       "      <th>category</th>\n",
       "      <th>quantiy</th>\n",
       "      <th>price_per_unit</th>\n",
       "      <th>cogs</th>\n",
       "      <th>total_sale</th>\n",
       "    </tr>\n",
       "  </thead>\n",
       "  <tbody>\n",
       "    <tr>\n",
       "      <th>0</th>\n",
       "      <td>180</td>\n",
       "      <td>05-11-2022</td>\n",
       "      <td>10:47:00</td>\n",
       "      <td>117</td>\n",
       "      <td>Male</td>\n",
       "      <td>41.0</td>\n",
       "      <td>Clothing</td>\n",
       "      <td>3.0</td>\n",
       "      <td>300.0</td>\n",
       "      <td>129.0</td>\n",
       "      <td>900.0</td>\n",
       "    </tr>\n",
       "    <tr>\n",
       "      <th>1</th>\n",
       "      <td>522</td>\n",
       "      <td>09-07-2022</td>\n",
       "      <td>11:00:00</td>\n",
       "      <td>52</td>\n",
       "      <td>Male</td>\n",
       "      <td>46.0</td>\n",
       "      <td>Beauty</td>\n",
       "      <td>3.0</td>\n",
       "      <td>500.0</td>\n",
       "      <td>145.0</td>\n",
       "      <td>1500.0</td>\n",
       "    </tr>\n",
       "    <tr>\n",
       "      <th>2</th>\n",
       "      <td>559</td>\n",
       "      <td>12-12-2022</td>\n",
       "      <td>10:48:00</td>\n",
       "      <td>5</td>\n",
       "      <td>Female</td>\n",
       "      <td>40.0</td>\n",
       "      <td>Clothing</td>\n",
       "      <td>4.0</td>\n",
       "      <td>300.0</td>\n",
       "      <td>84.0</td>\n",
       "      <td>1200.0</td>\n",
       "    </tr>\n",
       "    <tr>\n",
       "      <th>3</th>\n",
       "      <td>1180</td>\n",
       "      <td>06-01-2022</td>\n",
       "      <td>08:53:00</td>\n",
       "      <td>85</td>\n",
       "      <td>Male</td>\n",
       "      <td>41.0</td>\n",
       "      <td>Clothing</td>\n",
       "      <td>3.0</td>\n",
       "      <td>300.0</td>\n",
       "      <td>129.0</td>\n",
       "      <td>900.0</td>\n",
       "    </tr>\n",
       "    <tr>\n",
       "      <th>4</th>\n",
       "      <td>1522</td>\n",
       "      <td>14-11-2022</td>\n",
       "      <td>08:35:00</td>\n",
       "      <td>48</td>\n",
       "      <td>Male</td>\n",
       "      <td>46.0</td>\n",
       "      <td>Beauty</td>\n",
       "      <td>3.0</td>\n",
       "      <td>500.0</td>\n",
       "      <td>235.0</td>\n",
       "      <td>1500.0</td>\n",
       "    </tr>\n",
       "  </tbody>\n",
       "</table>\n",
       "</div>"
      ],
      "text/plain": [
       "   transactions_id   sale_date sale_time  customer_id  gender   age  category  \\\n",
       "0              180  05-11-2022  10:47:00          117    Male  41.0  Clothing   \n",
       "1              522  09-07-2022  11:00:00           52    Male  46.0    Beauty   \n",
       "2              559  12-12-2022  10:48:00            5  Female  40.0  Clothing   \n",
       "3             1180  06-01-2022  08:53:00           85    Male  41.0  Clothing   \n",
       "4             1522  14-11-2022  08:35:00           48    Male  46.0    Beauty   \n",
       "\n",
       "   quantiy  price_per_unit   cogs  total_sale  \n",
       "0      3.0           300.0  129.0       900.0  \n",
       "1      3.0           500.0  145.0      1500.0  \n",
       "2      4.0           300.0   84.0      1200.0  \n",
       "3      3.0           300.0  129.0       900.0  \n",
       "4      3.0           500.0  235.0      1500.0  "
      ]
     },
     "execution_count": 5,
     "metadata": {},
     "output_type": "execute_result"
    }
   ],
   "source": [
    "df.head()  # Display the first few rows of the DataFrame"
   ]
  },
  {
   "cell_type": "code",
   "execution_count": 6,
   "id": "4d9cf4bb",
   "metadata": {},
   "outputs": [
    {
     "data": {
      "application/vnd.microsoft.datawrangler.viewer.v0+json": {
       "columns": [
        {
         "name": "index",
         "rawType": "int64",
         "type": "integer"
        },
        {
         "name": "transactions_id",
         "rawType": "int64",
         "type": "integer"
        },
        {
         "name": "sale_date",
         "rawType": "object",
         "type": "string"
        },
        {
         "name": "sale_time",
         "rawType": "object",
         "type": "string"
        },
        {
         "name": "customer_id",
         "rawType": "int64",
         "type": "integer"
        },
        {
         "name": "gender",
         "rawType": "object",
         "type": "string"
        },
        {
         "name": "age",
         "rawType": "float64",
         "type": "float"
        },
        {
         "name": "category",
         "rawType": "object",
         "type": "string"
        },
        {
         "name": "quantiy",
         "rawType": "float64",
         "type": "float"
        },
        {
         "name": "price_per_unit",
         "rawType": "float64",
         "type": "float"
        },
        {
         "name": "cogs",
         "rawType": "float64",
         "type": "float"
        },
        {
         "name": "total_sale",
         "rawType": "float64",
         "type": "float"
        }
       ],
       "ref": "bc8b3da6-0614-4e9e-b141-1d41bb360e44",
       "rows": [
        [
         "296",
         "272",
         "10-06-2022",
         "11:57:00",
         "112",
         "Female",
         "61.0",
         "Electronics",
         "2.0",
         "50.0",
         "27.5",
         "100.0"
        ]
       ],
       "shape": {
        "columns": 11,
        "rows": 1
       }
      },
      "text/html": [
       "<div>\n",
       "<style scoped>\n",
       "    .dataframe tbody tr th:only-of-type {\n",
       "        vertical-align: middle;\n",
       "    }\n",
       "\n",
       "    .dataframe tbody tr th {\n",
       "        vertical-align: top;\n",
       "    }\n",
       "\n",
       "    .dataframe thead th {\n",
       "        text-align: right;\n",
       "    }\n",
       "</style>\n",
       "<table border=\"1\" class=\"dataframe\">\n",
       "  <thead>\n",
       "    <tr style=\"text-align: right;\">\n",
       "      <th></th>\n",
       "      <th>transactions_id</th>\n",
       "      <th>sale_date</th>\n",
       "      <th>sale_time</th>\n",
       "      <th>customer_id</th>\n",
       "      <th>gender</th>\n",
       "      <th>age</th>\n",
       "      <th>category</th>\n",
       "      <th>quantiy</th>\n",
       "      <th>price_per_unit</th>\n",
       "      <th>cogs</th>\n",
       "      <th>total_sale</th>\n",
       "    </tr>\n",
       "  </thead>\n",
       "  <tbody>\n",
       "    <tr>\n",
       "      <th>296</th>\n",
       "      <td>272</td>\n",
       "      <td>10-06-2022</td>\n",
       "      <td>11:57:00</td>\n",
       "      <td>112</td>\n",
       "      <td>Female</td>\n",
       "      <td>61.0</td>\n",
       "      <td>Electronics</td>\n",
       "      <td>2.0</td>\n",
       "      <td>50.0</td>\n",
       "      <td>27.5</td>\n",
       "      <td>100.0</td>\n",
       "    </tr>\n",
       "  </tbody>\n",
       "</table>\n",
       "</div>"
      ],
      "text/plain": [
       "     transactions_id   sale_date sale_time  customer_id  gender   age  \\\n",
       "296              272  10-06-2022  11:57:00          112  Female  61.0   \n",
       "\n",
       "        category  quantiy  price_per_unit  cogs  total_sale  \n",
       "296  Electronics      2.0            50.0  27.5       100.0  "
      ]
     },
     "execution_count": 6,
     "metadata": {},
     "output_type": "execute_result"
    }
   ],
   "source": [
    "df.sample()"
   ]
  },
  {
   "cell_type": "code",
   "execution_count": 7,
   "id": "da27d91b",
   "metadata": {},
   "outputs": [
    {
     "data": {
      "application/vnd.microsoft.datawrangler.viewer.v0+json": {
       "columns": [
        {
         "name": "index",
         "rawType": "object",
         "type": "string"
        },
        {
         "name": "0",
         "rawType": "object",
         "type": "unknown"
        }
       ],
       "ref": "013c58c5-5124-4afd-ba57-9257a05513cc",
       "rows": [
        [
         "transactions_id",
         "int64"
        ],
        [
         "sale_date",
         "object"
        ],
        [
         "sale_time",
         "object"
        ],
        [
         "customer_id",
         "int64"
        ],
        [
         "gender",
         "object"
        ],
        [
         "age",
         "float64"
        ],
        [
         "category",
         "object"
        ],
        [
         "quantiy",
         "float64"
        ],
        [
         "price_per_unit",
         "float64"
        ],
        [
         "cogs",
         "float64"
        ],
        [
         "total_sale",
         "float64"
        ]
       ],
       "shape": {
        "columns": 1,
        "rows": 11
       }
      },
      "text/plain": [
       "transactions_id      int64\n",
       "sale_date           object\n",
       "sale_time           object\n",
       "customer_id          int64\n",
       "gender              object\n",
       "age                float64\n",
       "category            object\n",
       "quantiy            float64\n",
       "price_per_unit     float64\n",
       "cogs               float64\n",
       "total_sale         float64\n",
       "dtype: object"
      ]
     },
     "execution_count": 7,
     "metadata": {},
     "output_type": "execute_result"
    }
   ],
   "source": [
    "df.dtypes"
   ]
  },
  {
   "cell_type": "code",
   "execution_count": 8,
   "id": "fdcba8dc",
   "metadata": {},
   "outputs": [
    {
     "data": {
      "text/plain": [
       "Index(['transactions_id', 'sale_date', 'sale_time', 'customer_id', 'gender',\n",
       "       'age', 'category', 'quantiy', 'price_per_unit', 'cogs', 'total_sale'],\n",
       "      dtype='object')"
      ]
     },
     "execution_count": 8,
     "metadata": {},
     "output_type": "execute_result"
    }
   ],
   "source": [
    "df.columns"
   ]
  },
  {
   "cell_type": "code",
   "execution_count": 9,
   "id": "1f14053a",
   "metadata": {},
   "outputs": [
    {
     "data": {
      "application/vnd.microsoft.datawrangler.viewer.v0+json": {
       "columns": [
        {
         "name": "index",
         "rawType": "object",
         "type": "string"
        },
        {
         "name": "transactions_id",
         "rawType": "float64",
         "type": "float"
        },
        {
         "name": "customer_id",
         "rawType": "float64",
         "type": "float"
        },
        {
         "name": "age",
         "rawType": "float64",
         "type": "float"
        },
        {
         "name": "quantiy",
         "rawType": "float64",
         "type": "float"
        },
        {
         "name": "price_per_unit",
         "rawType": "float64",
         "type": "float"
        },
        {
         "name": "cogs",
         "rawType": "float64",
         "type": "float"
        },
        {
         "name": "total_sale",
         "rawType": "float64",
         "type": "float"
        }
       ],
       "ref": "4582b5e2-00a0-498d-a4ff-d4718b2ef113",
       "rows": [
        [
         "count",
         "2000.0",
         "2000.0",
         "1990.0",
         "1997.0",
         "1997.0",
         "1997.0",
         "1997.0"
        ],
        [
         "mean",
         "1000.5",
         "66.3415",
         "41.34321608040201",
         "2.512769153730596",
         "180.11767651477217",
         "95.02388582874312",
         "456.54481722583876"
        ],
        [
         "std",
         "577.4945887192364",
         "44.93718452491782",
         "13.668167217351817",
         "1.1327083692590578",
         "189.68522515550362",
         "121.89869521086436",
         "560.1013807632462"
        ],
        [
         "min",
         "1.0",
         "1.0",
         "18.0",
         "1.0",
         "25.0",
         "6.25",
         "25.0"
        ],
        [
         "25%",
         "500.75",
         "24.0",
         "29.0",
         "1.0",
         "30.0",
         "13.0",
         "60.0"
        ],
        [
         "50%",
         "1000.5",
         "69.0",
         "42.0",
         "3.0",
         "50.0",
         "27.5",
         "150.0"
        ],
        [
         "75%",
         "1500.25",
         "102.0",
         "53.0",
         "4.0",
         "300.0",
         "147.0",
         "900.0"
        ],
        [
         "max",
         "2000.0",
         "155.0",
         "64.0",
         "4.0",
         "500.0",
         "620.0",
         "2000.0"
        ]
       ],
       "shape": {
        "columns": 7,
        "rows": 8
       }
      },
      "text/html": [
       "<div>\n",
       "<style scoped>\n",
       "    .dataframe tbody tr th:only-of-type {\n",
       "        vertical-align: middle;\n",
       "    }\n",
       "\n",
       "    .dataframe tbody tr th {\n",
       "        vertical-align: top;\n",
       "    }\n",
       "\n",
       "    .dataframe thead th {\n",
       "        text-align: right;\n",
       "    }\n",
       "</style>\n",
       "<table border=\"1\" class=\"dataframe\">\n",
       "  <thead>\n",
       "    <tr style=\"text-align: right;\">\n",
       "      <th></th>\n",
       "      <th>transactions_id</th>\n",
       "      <th>customer_id</th>\n",
       "      <th>age</th>\n",
       "      <th>quantiy</th>\n",
       "      <th>price_per_unit</th>\n",
       "      <th>cogs</th>\n",
       "      <th>total_sale</th>\n",
       "    </tr>\n",
       "  </thead>\n",
       "  <tbody>\n",
       "    <tr>\n",
       "      <th>count</th>\n",
       "      <td>2000.000000</td>\n",
       "      <td>2000.000000</td>\n",
       "      <td>1990.000000</td>\n",
       "      <td>1997.000000</td>\n",
       "      <td>1997.000000</td>\n",
       "      <td>1997.000000</td>\n",
       "      <td>1997.000000</td>\n",
       "    </tr>\n",
       "    <tr>\n",
       "      <th>mean</th>\n",
       "      <td>1000.500000</td>\n",
       "      <td>66.341500</td>\n",
       "      <td>41.343216</td>\n",
       "      <td>2.512769</td>\n",
       "      <td>180.117677</td>\n",
       "      <td>95.023886</td>\n",
       "      <td>456.544817</td>\n",
       "    </tr>\n",
       "    <tr>\n",
       "      <th>std</th>\n",
       "      <td>577.494589</td>\n",
       "      <td>44.937185</td>\n",
       "      <td>13.668167</td>\n",
       "      <td>1.132708</td>\n",
       "      <td>189.685225</td>\n",
       "      <td>121.898695</td>\n",
       "      <td>560.101381</td>\n",
       "    </tr>\n",
       "    <tr>\n",
       "      <th>min</th>\n",
       "      <td>1.000000</td>\n",
       "      <td>1.000000</td>\n",
       "      <td>18.000000</td>\n",
       "      <td>1.000000</td>\n",
       "      <td>25.000000</td>\n",
       "      <td>6.250000</td>\n",
       "      <td>25.000000</td>\n",
       "    </tr>\n",
       "    <tr>\n",
       "      <th>25%</th>\n",
       "      <td>500.750000</td>\n",
       "      <td>24.000000</td>\n",
       "      <td>29.000000</td>\n",
       "      <td>1.000000</td>\n",
       "      <td>30.000000</td>\n",
       "      <td>13.000000</td>\n",
       "      <td>60.000000</td>\n",
       "    </tr>\n",
       "    <tr>\n",
       "      <th>50%</th>\n",
       "      <td>1000.500000</td>\n",
       "      <td>69.000000</td>\n",
       "      <td>42.000000</td>\n",
       "      <td>3.000000</td>\n",
       "      <td>50.000000</td>\n",
       "      <td>27.500000</td>\n",
       "      <td>150.000000</td>\n",
       "    </tr>\n",
       "    <tr>\n",
       "      <th>75%</th>\n",
       "      <td>1500.250000</td>\n",
       "      <td>102.000000</td>\n",
       "      <td>53.000000</td>\n",
       "      <td>4.000000</td>\n",
       "      <td>300.000000</td>\n",
       "      <td>147.000000</td>\n",
       "      <td>900.000000</td>\n",
       "    </tr>\n",
       "    <tr>\n",
       "      <th>max</th>\n",
       "      <td>2000.000000</td>\n",
       "      <td>155.000000</td>\n",
       "      <td>64.000000</td>\n",
       "      <td>4.000000</td>\n",
       "      <td>500.000000</td>\n",
       "      <td>620.000000</td>\n",
       "      <td>2000.000000</td>\n",
       "    </tr>\n",
       "  </tbody>\n",
       "</table>\n",
       "</div>"
      ],
      "text/plain": [
       "       transactions_id  customer_id          age      quantiy  price_per_unit  \\\n",
       "count      2000.000000  2000.000000  1990.000000  1997.000000     1997.000000   \n",
       "mean       1000.500000    66.341500    41.343216     2.512769      180.117677   \n",
       "std         577.494589    44.937185    13.668167     1.132708      189.685225   \n",
       "min           1.000000     1.000000    18.000000     1.000000       25.000000   \n",
       "25%         500.750000    24.000000    29.000000     1.000000       30.000000   \n",
       "50%        1000.500000    69.000000    42.000000     3.000000       50.000000   \n",
       "75%        1500.250000   102.000000    53.000000     4.000000      300.000000   \n",
       "max        2000.000000   155.000000    64.000000     4.000000      500.000000   \n",
       "\n",
       "              cogs   total_sale  \n",
       "count  1997.000000  1997.000000  \n",
       "mean     95.023886   456.544817  \n",
       "std     121.898695   560.101381  \n",
       "min       6.250000    25.000000  \n",
       "25%      13.000000    60.000000  \n",
       "50%      27.500000   150.000000  \n",
       "75%     147.000000   900.000000  \n",
       "max     620.000000  2000.000000  "
      ]
     },
     "execution_count": 9,
     "metadata": {},
     "output_type": "execute_result"
    }
   ],
   "source": [
    "df.describe()"
   ]
  },
  {
   "cell_type": "code",
   "execution_count": 10,
   "id": "0926cdbb",
   "metadata": {},
   "outputs": [
    {
     "data": {
      "application/vnd.microsoft.datawrangler.viewer.v0+json": {
       "columns": [
        {
         "name": "index",
         "rawType": "object",
         "type": "string"
        },
        {
         "name": "0",
         "rawType": "int64",
         "type": "integer"
        }
       ],
       "ref": "5a90d821-2a79-4950-aa43-fbe8c619635b",
       "rows": [
        [
         "transactions_id",
         "0"
        ],
        [
         "sale_date",
         "0"
        ],
        [
         "sale_time",
         "0"
        ],
        [
         "customer_id",
         "0"
        ],
        [
         "gender",
         "0"
        ],
        [
         "age",
         "10"
        ],
        [
         "category",
         "0"
        ],
        [
         "quantiy",
         "3"
        ],
        [
         "price_per_unit",
         "3"
        ],
        [
         "cogs",
         "3"
        ],
        [
         "total_sale",
         "3"
        ]
       ],
       "shape": {
        "columns": 1,
        "rows": 11
       }
      },
      "text/plain": [
       "transactions_id     0\n",
       "sale_date           0\n",
       "sale_time           0\n",
       "customer_id         0\n",
       "gender              0\n",
       "age                10\n",
       "category            0\n",
       "quantiy             3\n",
       "price_per_unit      3\n",
       "cogs                3\n",
       "total_sale          3\n",
       "dtype: int64"
      ]
     },
     "execution_count": 10,
     "metadata": {},
     "output_type": "execute_result"
    }
   ],
   "source": [
    "df.isnull().sum() "
   ]
  },
  {
   "cell_type": "code",
   "execution_count": 11,
   "id": "88419722",
   "metadata": {},
   "outputs": [],
   "source": [
    "df.dropna(axis=0, how='any', inplace=True)"
   ]
  },
  {
   "cell_type": "code",
   "execution_count": 12,
   "id": "998c0acf",
   "metadata": {},
   "outputs": [
    {
     "data": {
      "application/vnd.microsoft.datawrangler.viewer.v0+json": {
       "columns": [
        {
         "name": "index",
         "rawType": "object",
         "type": "string"
        },
        {
         "name": "0",
         "rawType": "int64",
         "type": "integer"
        }
       ],
       "ref": "155462e9-a382-46e3-82ab-1663d308260c",
       "rows": [
        [
         "transactions_id",
         "0"
        ],
        [
         "sale_date",
         "0"
        ],
        [
         "sale_time",
         "0"
        ],
        [
         "customer_id",
         "0"
        ],
        [
         "gender",
         "0"
        ],
        [
         "age",
         "0"
        ],
        [
         "category",
         "0"
        ],
        [
         "quantiy",
         "0"
        ],
        [
         "price_per_unit",
         "0"
        ],
        [
         "cogs",
         "0"
        ],
        [
         "total_sale",
         "0"
        ]
       ],
       "shape": {
        "columns": 1,
        "rows": 11
       }
      },
      "text/plain": [
       "transactions_id    0\n",
       "sale_date          0\n",
       "sale_time          0\n",
       "customer_id        0\n",
       "gender             0\n",
       "age                0\n",
       "category           0\n",
       "quantiy            0\n",
       "price_per_unit     0\n",
       "cogs               0\n",
       "total_sale         0\n",
       "dtype: int64"
      ]
     },
     "execution_count": 12,
     "metadata": {},
     "output_type": "execute_result"
    }
   ],
   "source": [
    "df.isnull().sum() "
   ]
  },
  {
   "cell_type": "code",
   "execution_count": 13,
   "id": "a28625d1",
   "metadata": {},
   "outputs": [
    {
     "data": {
      "application/vnd.microsoft.datawrangler.viewer.v0+json": {
       "columns": [
        {
         "name": "index",
         "rawType": "int64",
         "type": "integer"
        },
        {
         "name": "transactions_id",
         "rawType": "int64",
         "type": "integer"
        },
        {
         "name": "sale_date",
         "rawType": "object",
         "type": "string"
        },
        {
         "name": "sale_time",
         "rawType": "object",
         "type": "string"
        },
        {
         "name": "customer_id",
         "rawType": "int64",
         "type": "integer"
        },
        {
         "name": "gender",
         "rawType": "object",
         "type": "string"
        },
        {
         "name": "age",
         "rawType": "float64",
         "type": "float"
        },
        {
         "name": "category",
         "rawType": "object",
         "type": "string"
        },
        {
         "name": "quantiy",
         "rawType": "float64",
         "type": "float"
        },
        {
         "name": "price_per_unit",
         "rawType": "float64",
         "type": "float"
        },
        {
         "name": "cogs",
         "rawType": "float64",
         "type": "float"
        },
        {
         "name": "total_sale",
         "rawType": "float64",
         "type": "float"
        }
       ],
       "ref": "11dd3377-10c6-44f2-8783-86e8a54690c7",
       "rows": [
        [
         "0",
         "180",
         "05-11-2022",
         "10:47:00",
         "117",
         "Male",
         "41.0",
         "Clothing",
         "3.0",
         "300.0",
         "129.0",
         "900.0"
        ],
        [
         "1",
         "522",
         "09-07-2022",
         "11:00:00",
         "52",
         "Male",
         "46.0",
         "Beauty",
         "3.0",
         "500.0",
         "145.0",
         "1500.0"
        ],
        [
         "2",
         "559",
         "12-12-2022",
         "10:48:00",
         "5",
         "Female",
         "40.0",
         "Clothing",
         "4.0",
         "300.0",
         "84.0",
         "1200.0"
        ],
        [
         "3",
         "1180",
         "06-01-2022",
         "08:53:00",
         "85",
         "Male",
         "41.0",
         "Clothing",
         "3.0",
         "300.0",
         "129.0",
         "900.0"
        ],
        [
         "4",
         "1522",
         "14-11-2022",
         "08:35:00",
         "48",
         "Male",
         "46.0",
         "Beauty",
         "3.0",
         "500.0",
         "235.0",
         "1500.0"
        ],
        [
         "5",
         "1559",
         "20-08-2022",
         "07:40:00",
         "49",
         "Female",
         "40.0",
         "Clothing",
         "4.0",
         "300.0",
         "144.0",
         "1200.0"
        ],
        [
         "6",
         "163",
         "31-10-2022",
         "09:38:00",
         "144",
         "Female",
         "64.0",
         "Clothing",
         "3.0",
         "50.0",
         "23.0",
         "150.0"
        ],
        [
         "7",
         "303",
         "22-04-2022",
         "11:09:00",
         "54",
         "Male",
         "19.0",
         "Electronics",
         "3.0",
         "30.0",
         "14.7",
         "90.0"
        ],
        [
         "8",
         "421",
         "08-04-2022",
         "08:43:00",
         "66",
         "Female",
         "37.0",
         "Clothing",
         "3.0",
         "500.0",
         "235.0",
         "1500.0"
        ],
        [
         "9",
         "979",
         "18-05-2022",
         "10:18:00",
         "6",
         "Female",
         "19.0",
         "Beauty",
         "1.0",
         "25.0",
         "10.5",
         "25.0"
        ],
        [
         "10",
         "1163",
         "04-05-2022",
         "10:52:00",
         "120",
         "Female",
         "64.0",
         "Clothing",
         "3.0",
         "50.0",
         "27.0",
         "150.0"
        ],
        [
         "11",
         "1303",
         "19-03-2022",
         "08:59:00",
         "58",
         "Male",
         "19.0",
         "Electronics",
         "3.0",
         "30.0",
         "15.0",
         "90.0"
        ],
        [
         "12",
         "1421",
         "17-01-2022",
         "07:07:00",
         "59",
         "Female",
         "37.0",
         "Clothing",
         "3.0",
         "500.0",
         "185.0",
         "1500.0"
        ],
        [
         "13",
         "1979",
         "17-08-2022",
         "11:34:00",
         "102",
         "Female",
         "19.0",
         "Beauty",
         "1.0",
         "25.0",
         "7.75",
         "25.0"
        ],
        [
         "14",
         "610",
         "18-12-2022",
         "06:56:00",
         "137",
         "Female",
         "26.0",
         "Beauty",
         "2.0",
         "300.0",
         "93.0",
         "600.0"
        ],
        [
         "15",
         "1610",
         "23-11-2022",
         "10:18:00",
         "1",
         "Female",
         "26.0",
         "Beauty",
         "2.0",
         "300.0",
         "102.0",
         "600.0"
        ],
        [
         "16",
         "32",
         "16-07-2022",
         "09:11:00",
         "150",
         "Male",
         "30.0",
         "Beauty",
         "3.0",
         "30.0",
         "8.4",
         "90.0"
        ],
        [
         "17",
         "231",
         "09-07-2022",
         "07:02:00",
         "50",
         "Female",
         "23.0",
         "Clothing",
         "3.0",
         "50.0",
         "26.5",
         "150.0"
        ],
        [
         "18",
         "683",
         "06-03-2022",
         "10:22:00",
         "82",
         "Male",
         "38.0",
         "Beauty",
         "2.0",
         "500.0",
         "175.0",
         "1000.0"
        ],
        [
         "19",
         "1032",
         "01-04-2022",
         "08:15:00",
         "1",
         "Male",
         "30.0",
         "Beauty",
         "3.0",
         "30.0",
         "10.5",
         "90.0"
        ],
        [
         "20",
         "1231",
         "29-01-2022",
         "07:05:00",
         "12",
         "Female",
         "23.0",
         "Clothing",
         "3.0",
         "50.0",
         "23.0",
         "150.0"
        ],
        [
         "21",
         "1683",
         "04-05-2022",
         "07:19:00",
         "98",
         "Male",
         "38.0",
         "Beauty",
         "2.0",
         "500.0",
         "220.0",
         "1000.0"
        ],
        [
         "22",
         "367",
         "30-12-2022",
         "07:03:00",
         "123",
         "Female",
         "57.0",
         "Electronics",
         "1.0",
         "50.0",
         "18.0",
         "50.0"
        ],
        [
         "23",
         "391",
         "25-03-2022",
         "07:37:00",
         "68",
         "Male",
         "19.0",
         "Beauty",
         "2.0",
         "25.0",
         "6.25",
         "50.0"
        ],
        [
         "34",
         "1797",
         "16-04-2022",
         "11:47:00",
         "147",
         "Male",
         "40.0",
         "Clothing",
         "3.0",
         "25.0",
         "12.25",
         "75.0"
        ],
        [
         "35",
         "1921",
         "08-02-2022",
         "07:01:00",
         "77",
         "Male",
         "51.0",
         "Electronics",
         "3.0",
         "25.0",
         "7.5",
         "75.0"
        ],
        [
         "36",
         "291",
         "22-11-2022",
         "08:29:00",
         "15",
         "Male",
         "60.0",
         "Clothing",
         "2.0",
         "300.0",
         "126.0",
         "600.0"
        ],
        [
         "37",
         "907",
         "02-09-2022",
         "06:16:00",
         "145",
         "Female",
         "45.0",
         "Electronics",
         "1.0",
         "25.0",
         "8.5",
         "25.0"
        ],
        [
         "38",
         "1291",
         "04-04-2022",
         "11:19:00",
         "72",
         "Male",
         "60.0",
         "Clothing",
         "2.0",
         "300.0",
         "153.0",
         "600.0"
        ],
        [
         "39",
         "1907",
         "17-11-2022",
         "11:21:00",
         "115",
         "Female",
         "45.0",
         "Electronics",
         "1.0",
         "25.0",
         "9.0",
         "25.0"
        ],
        [
         "40",
         "860",
         "11-04-2022",
         "08:58:00",
         "85",
         "Male",
         "63.0",
         "Clothing",
         "4.0",
         "50.0",
         "16.0",
         "200.0"
        ],
        [
         "41",
         "1860",
         "12-03-2022",
         "11:21:00",
         "57",
         "Male",
         "63.0",
         "Clothing",
         "4.0",
         "50.0",
         "18.0",
         "200.0"
        ],
        [
         "42",
         "184",
         "13-02-2022",
         "06:44:00",
         "128",
         "Male",
         "31.0",
         "Electronics",
         "4.0",
         "50.0",
         "17.0",
         "200.0"
        ],
        [
         "43",
         "734",
         "12-03-2022",
         "08:54:00",
         "77",
         "Female",
         "27.0",
         "Clothing",
         "1.0",
         "30.0",
         "15.6",
         "30.0"
        ],
        [
         "44",
         "1184",
         "12-02-2022",
         "08:28:00",
         "23",
         "Male",
         "31.0",
         "Electronics",
         "4.0",
         "50.0",
         "27.5",
         "200.0"
        ],
        [
         "45",
         "1734",
         "28-02-2022",
         "08:58:00",
         "72",
         "Female",
         "27.0",
         "Clothing",
         "1.0",
         "30.0",
         "14.4",
         "30.0"
        ],
        [
         "46",
         "225",
         "05-03-2022",
         "07:37:00",
         "85",
         "Female",
         "57.0",
         "Beauty",
         "4.0",
         "25.0",
         "12.75",
         "100.0"
        ],
        [
         "50",
         "1679",
         "23-09-2022",
         "08:08:00",
         "71",
         "Female",
         "18.0",
         "Beauty",
         "3.0",
         "30.0",
         "15.3",
         "90.0"
        ],
        [
         "51",
         "1746",
         "13-06-2022",
         "07:59:00",
         "88",
         "Female",
         "33.0",
         "Clothing",
         "3.0",
         "30.0",
         "10.8",
         "90.0"
        ],
        [
         "52",
         "3",
         "14-06-2022",
         "07:08:00",
         "114",
         "Male",
         "50.0",
         "Electronics",
         "1.0",
         "30.0",
         "8.1",
         "30.0"
        ],
        [
         "53",
         "464",
         "06-03-2022",
         "11:13:00",
         "24",
         "Male",
         "38.0",
         "Electronics",
         "2.0",
         "300.0",
         "75.0",
         "600.0"
        ],
        [
         "54",
         "484",
         "13-03-2022",
         "07:52:00",
         "135",
         "Female",
         "19.0",
         "Clothing",
         "4.0",
         "300.0",
         "75.0",
         "1200.0"
        ],
        [
         "55",
         "591",
         "21-03-2022",
         "08:38:00",
         "94",
         "Male",
         "53.0",
         "Electronics",
         "4.0",
         "25.0",
         "6.5",
         "100.0"
        ],
        [
         "56",
         "1003",
         "26-01-2022",
         "07:59:00",
         "80",
         "Male",
         "50.0",
         "Electronics",
         "1.0",
         "30.0",
         "15.9",
         "30.0"
        ],
        [
         "57",
         "1464",
         "13-11-2022",
         "10:06:00",
         "80",
         "Male",
         "38.0",
         "Electronics",
         "2.0",
         "300.0",
         "126.0",
         "600.0"
        ],
        [
         "58",
         "1484",
         "23-11-2022",
         "09:29:00",
         "22",
         "Female",
         "19.0",
         "Clothing",
         "4.0",
         "300.0",
         "147.0",
         "1200.0"
        ],
        [
         "59",
         "1591",
         "29-09-2022",
         "11:00:00",
         "62",
         "Male",
         "53.0",
         "Electronics",
         "4.0",
         "25.0",
         "7.0",
         "100.0"
        ],
        [
         "60",
         "21",
         "11-07-2022",
         "07:33:00",
         "59",
         "Female",
         "50.0",
         "Beauty",
         "1.0",
         "500.0",
         "275.0",
         "500.0"
        ],
        [
         "61",
         "708",
         "06-04-2022",
         "08:38:00",
         "62",
         "Female",
         "43.0",
         "Beauty",
         "3.0",
         "300.0",
         "87.0",
         "900.0"
        ],
        [
         "62",
         "713",
         "16-04-2022",
         "11:43:00",
         "39",
         "Male",
         "34.0",
         "Beauty",
         "3.0",
         "25.0",
         "11.25",
         "75.0"
        ]
       ],
       "shape": {
        "columns": 11,
        "rows": 1987
       }
      },
      "text/html": [
       "<div>\n",
       "<style scoped>\n",
       "    .dataframe tbody tr th:only-of-type {\n",
       "        vertical-align: middle;\n",
       "    }\n",
       "\n",
       "    .dataframe tbody tr th {\n",
       "        vertical-align: top;\n",
       "    }\n",
       "\n",
       "    .dataframe thead th {\n",
       "        text-align: right;\n",
       "    }\n",
       "</style>\n",
       "<table border=\"1\" class=\"dataframe\">\n",
       "  <thead>\n",
       "    <tr style=\"text-align: right;\">\n",
       "      <th></th>\n",
       "      <th>transactions_id</th>\n",
       "      <th>sale_date</th>\n",
       "      <th>sale_time</th>\n",
       "      <th>customer_id</th>\n",
       "      <th>gender</th>\n",
       "      <th>age</th>\n",
       "      <th>category</th>\n",
       "      <th>quantiy</th>\n",
       "      <th>price_per_unit</th>\n",
       "      <th>cogs</th>\n",
       "      <th>total_sale</th>\n",
       "    </tr>\n",
       "  </thead>\n",
       "  <tbody>\n",
       "    <tr>\n",
       "      <th>0</th>\n",
       "      <td>180</td>\n",
       "      <td>05-11-2022</td>\n",
       "      <td>10:47:00</td>\n",
       "      <td>117</td>\n",
       "      <td>Male</td>\n",
       "      <td>41.0</td>\n",
       "      <td>Clothing</td>\n",
       "      <td>3.0</td>\n",
       "      <td>300.0</td>\n",
       "      <td>129.0</td>\n",
       "      <td>900.0</td>\n",
       "    </tr>\n",
       "    <tr>\n",
       "      <th>1</th>\n",
       "      <td>522</td>\n",
       "      <td>09-07-2022</td>\n",
       "      <td>11:00:00</td>\n",
       "      <td>52</td>\n",
       "      <td>Male</td>\n",
       "      <td>46.0</td>\n",
       "      <td>Beauty</td>\n",
       "      <td>3.0</td>\n",
       "      <td>500.0</td>\n",
       "      <td>145.0</td>\n",
       "      <td>1500.0</td>\n",
       "    </tr>\n",
       "    <tr>\n",
       "      <th>2</th>\n",
       "      <td>559</td>\n",
       "      <td>12-12-2022</td>\n",
       "      <td>10:48:00</td>\n",
       "      <td>5</td>\n",
       "      <td>Female</td>\n",
       "      <td>40.0</td>\n",
       "      <td>Clothing</td>\n",
       "      <td>4.0</td>\n",
       "      <td>300.0</td>\n",
       "      <td>84.0</td>\n",
       "      <td>1200.0</td>\n",
       "    </tr>\n",
       "    <tr>\n",
       "      <th>3</th>\n",
       "      <td>1180</td>\n",
       "      <td>06-01-2022</td>\n",
       "      <td>08:53:00</td>\n",
       "      <td>85</td>\n",
       "      <td>Male</td>\n",
       "      <td>41.0</td>\n",
       "      <td>Clothing</td>\n",
       "      <td>3.0</td>\n",
       "      <td>300.0</td>\n",
       "      <td>129.0</td>\n",
       "      <td>900.0</td>\n",
       "    </tr>\n",
       "    <tr>\n",
       "      <th>4</th>\n",
       "      <td>1522</td>\n",
       "      <td>14-11-2022</td>\n",
       "      <td>08:35:00</td>\n",
       "      <td>48</td>\n",
       "      <td>Male</td>\n",
       "      <td>46.0</td>\n",
       "      <td>Beauty</td>\n",
       "      <td>3.0</td>\n",
       "      <td>500.0</td>\n",
       "      <td>235.0</td>\n",
       "      <td>1500.0</td>\n",
       "    </tr>\n",
       "    <tr>\n",
       "      <th>...</th>\n",
       "      <td>...</td>\n",
       "      <td>...</td>\n",
       "      <td>...</td>\n",
       "      <td>...</td>\n",
       "      <td>...</td>\n",
       "      <td>...</td>\n",
       "      <td>...</td>\n",
       "      <td>...</td>\n",
       "      <td>...</td>\n",
       "      <td>...</td>\n",
       "      <td>...</td>\n",
       "    </tr>\n",
       "    <tr>\n",
       "      <th>1995</th>\n",
       "      <td>1857</td>\n",
       "      <td>09-11-2022</td>\n",
       "      <td>12:15:00</td>\n",
       "      <td>109</td>\n",
       "      <td>Male</td>\n",
       "      <td>60.0</td>\n",
       "      <td>Electronics</td>\n",
       "      <td>2.0</td>\n",
       "      <td>25.0</td>\n",
       "      <td>7.5</td>\n",
       "      <td>50.0</td>\n",
       "    </tr>\n",
       "    <tr>\n",
       "      <th>1996</th>\n",
       "      <td>211</td>\n",
       "      <td>12-09-2022</td>\n",
       "      <td>14:02:00</td>\n",
       "      <td>54</td>\n",
       "      <td>Male</td>\n",
       "      <td>42.0</td>\n",
       "      <td>Beauty</td>\n",
       "      <td>3.0</td>\n",
       "      <td>500.0</td>\n",
       "      <td>235.0</td>\n",
       "      <td>1500.0</td>\n",
       "    </tr>\n",
       "    <tr>\n",
       "      <th>1997</th>\n",
       "      <td>650</td>\n",
       "      <td>08-10-2023</td>\n",
       "      <td>12:41:00</td>\n",
       "      <td>98</td>\n",
       "      <td>Male</td>\n",
       "      <td>55.0</td>\n",
       "      <td>Electronics</td>\n",
       "      <td>1.0</td>\n",
       "      <td>30.0</td>\n",
       "      <td>15.0</td>\n",
       "      <td>30.0</td>\n",
       "    </tr>\n",
       "    <tr>\n",
       "      <th>1998</th>\n",
       "      <td>1211</td>\n",
       "      <td>22-11-2023</td>\n",
       "      <td>14:59:00</td>\n",
       "      <td>82</td>\n",
       "      <td>Male</td>\n",
       "      <td>42.0</td>\n",
       "      <td>Beauty</td>\n",
       "      <td>3.0</td>\n",
       "      <td>500.0</td>\n",
       "      <td>235.0</td>\n",
       "      <td>1500.0</td>\n",
       "    </tr>\n",
       "    <tr>\n",
       "      <th>1999</th>\n",
       "      <td>1650</td>\n",
       "      <td>23-09-2022</td>\n",
       "      <td>16:24:00</td>\n",
       "      <td>89</td>\n",
       "      <td>Male</td>\n",
       "      <td>55.0</td>\n",
       "      <td>Electronics</td>\n",
       "      <td>1.0</td>\n",
       "      <td>30.0</td>\n",
       "      <td>10.8</td>\n",
       "      <td>30.0</td>\n",
       "    </tr>\n",
       "  </tbody>\n",
       "</table>\n",
       "<p>1987 rows × 11 columns</p>\n",
       "</div>"
      ],
      "text/plain": [
       "      transactions_id   sale_date sale_time  customer_id  gender   age  \\\n",
       "0                 180  05-11-2022  10:47:00          117    Male  41.0   \n",
       "1                 522  09-07-2022  11:00:00           52    Male  46.0   \n",
       "2                 559  12-12-2022  10:48:00            5  Female  40.0   \n",
       "3                1180  06-01-2022  08:53:00           85    Male  41.0   \n",
       "4                1522  14-11-2022  08:35:00           48    Male  46.0   \n",
       "...               ...         ...       ...          ...     ...   ...   \n",
       "1995             1857  09-11-2022  12:15:00          109    Male  60.0   \n",
       "1996              211  12-09-2022  14:02:00           54    Male  42.0   \n",
       "1997              650  08-10-2023  12:41:00           98    Male  55.0   \n",
       "1998             1211  22-11-2023  14:59:00           82    Male  42.0   \n",
       "1999             1650  23-09-2022  16:24:00           89    Male  55.0   \n",
       "\n",
       "         category  quantiy  price_per_unit   cogs  total_sale  \n",
       "0        Clothing      3.0           300.0  129.0       900.0  \n",
       "1          Beauty      3.0           500.0  145.0      1500.0  \n",
       "2        Clothing      4.0           300.0   84.0      1200.0  \n",
       "3        Clothing      3.0           300.0  129.0       900.0  \n",
       "4          Beauty      3.0           500.0  235.0      1500.0  \n",
       "...           ...      ...             ...    ...         ...  \n",
       "1995  Electronics      2.0            25.0    7.5        50.0  \n",
       "1996       Beauty      3.0           500.0  235.0      1500.0  \n",
       "1997  Electronics      1.0            30.0   15.0        30.0  \n",
       "1998       Beauty      3.0           500.0  235.0      1500.0  \n",
       "1999  Electronics      1.0            30.0   10.8        30.0  \n",
       "\n",
       "[1987 rows x 11 columns]"
      ]
     },
     "execution_count": 13,
     "metadata": {},
     "output_type": "execute_result"
    }
   ],
   "source": [
    "df"
   ]
  },
  {
   "cell_type": "code",
   "execution_count": 14,
   "id": "70124267",
   "metadata": {},
   "outputs": [
    {
     "data": {
      "text/plain": [
       "0"
      ]
     },
     "execution_count": 14,
     "metadata": {},
     "output_type": "execute_result"
    }
   ],
   "source": [
    "df.duplicated().sum() # Check for duplicate rows"
   ]
  },
  {
   "cell_type": "code",
   "execution_count": 15,
   "id": "5b4e6f05",
   "metadata": {},
   "outputs": [
    {
     "name": "stdout",
     "output_type": "stream",
     "text": [
      "<class 'pandas.core.frame.DataFrame'>\n",
      "Index: 1987 entries, 0 to 1999\n",
      "Data columns (total 11 columns):\n",
      " #   Column           Non-Null Count  Dtype  \n",
      "---  ------           --------------  -----  \n",
      " 0   transactions_id  1987 non-null   int64  \n",
      " 1   sale_date        1987 non-null   object \n",
      " 2   sale_time        1987 non-null   object \n",
      " 3   customer_id      1987 non-null   int64  \n",
      " 4   gender           1987 non-null   object \n",
      " 5   age              1987 non-null   float64\n",
      " 6   category         1987 non-null   object \n",
      " 7   quantiy          1987 non-null   float64\n",
      " 8   price_per_unit   1987 non-null   float64\n",
      " 9   cogs             1987 non-null   float64\n",
      " 10  total_sale       1987 non-null   float64\n",
      "dtypes: float64(5), int64(2), object(4)\n",
      "memory usage: 186.3+ KB\n"
     ]
    }
   ],
   "source": [
    "df.info()"
   ]
  },
  {
   "cell_type": "markdown",
   "id": "0c6ece5b",
   "metadata": {},
   "source": [
    "# Exploratory Data Analysis\n",
    "**Q.1) What is the overall distribution of total sales?**"
   ]
  },
  {
   "cell_type": "code",
   "execution_count": 16,
   "id": "64e9f9ae",
   "metadata": {},
   "outputs": [
    {
     "data": {
      "image/png": "[encoded data removed]",
      "text/plain": [
       "<Figure size 1000x500 with 1 Axes>"
      ]
     },
     "metadata": {},
     "output_type": "display_data"
    }
   ],
   "source": [
    "plt.figure(figsize=(10, 5))\n",
    "# Histogram\n",
    "sns.histplot(df['total_sale'], bins=30, kde=True, color='orange')\n",
    "plt.title('Distribution of Total Sales (Histogram)')\n",
    "plt.xlabel('Total Sale')\n",
    "plt.ylabel('Frequency')\n",
    "plt.tight_layout()\n",
    "plt.show()"
   ]
  },
  {
   "cell_type": "markdown",
   "id": "c13a6590",
   "metadata": {},
   "source": [
    "1) Right-Skewed Distribution (Positive Skew):\n",
    "\n",
    "- Most sales amounts are concentrated on the lower end (under ₹250).\n",
    "\n",
    "- The distribution has a long tail to the right, indicating a few transactions with very high sale values.\n",
    "\n",
    "2) High Frequency of Low-Value Sales:\n",
    "\n",
    "- The largest number of transactions (peaking near ₹100–₹150) indicates customers are mostly making low to moderate purchases."
   ]
  },
  {
   "cell_type": "code",
   "execution_count": 17,
   "id": "71511fbe",
   "metadata": {},
   "outputs": [
    {
     "data": {
      "image/png": "[encoded data removed]",
      "text/plain": [
       "<Figure size 600x300 with 1 Axes>"
      ]
     },
     "metadata": {},
     "output_type": "display_data"
    }
   ],
   "source": [
    "# Boxplot\n",
    "plt.figure(figsize = (6,3))\n",
    "sns.boxplot(x=df['total_sale'], color='orange')\n",
    "plt.title('Distribution of Total Sales (Boxplot)')\n",
    "plt.xlabel('Total Sale')\n",
    "plt.tight_layout()\n",
    "plt.show()"
   ]
  },
  {
   "cell_type": "markdown",
   "id": "7aac82ff",
   "metadata": {},
   "source": [
    "1) Skewed Right Distribution:- The median line is closer to the left (closer to 200), showing the data is right-skewed, which aligns with the histogram.\n",
    "\n",
    "2) Wide IQR (Interquartile Range) :- The box is wide, indicating large variability in 50% of the middle values (approx. ₹100 to ₹800+).\n",
    "\n",
    "3) Presence of Outliers:- The long right whisker and points near ₹2000 suggest outliers or high-value transactions.\n",
    "\n",
    "4) Most Data in Lower Range:- A significant portion of sales transactions lies below ₹1000, with the bulk of them below ₹500."
   ]
  },
  {
   "cell_type": "markdown",
   "id": "f36c366e",
   "metadata": {},
   "source": [
    "**Q.2) Which product categories generate the highest revenue ?**\n"
   ]
  },
  {
   "cell_type": "code",
   "execution_count": 18,
   "id": "3fbffc7c",
   "metadata": {},
   "outputs": [],
   "source": [
    "# Grouping total sales by product category\n",
    "category_sales = df.groupby('category')['total_sale'].sum().reset_index()"
   ]
  },
  {
   "cell_type": "code",
   "execution_count": 19,
   "id": "bf2698c6",
   "metadata": {},
   "outputs": [
    {
     "data": {
      "application/vnd.microsoft.datawrangler.viewer.v0+json": {
       "columns": [
        {
         "name": "index",
         "rawType": "int64",
         "type": "integer"
        },
        {
         "name": "category",
         "rawType": "object",
         "type": "string"
        },
        {
         "name": "total_sale",
         "rawType": "float64",
         "type": "float"
        }
       ],
       "ref": "fa625b74-6382-445e-96be-b5decd876e06",
       "rows": [
        [
         "0",
         "Beauty",
         "286790.0"
        ],
        [
         "1",
         "Clothing",
         "309995.0"
        ],
        [
         "2",
         "Electronics",
         "311445.0"
        ]
       ],
       "shape": {
        "columns": 2,
        "rows": 3
       }
      },
      "text/html": [
       "<div>\n",
       "<style scoped>\n",
       "    .dataframe tbody tr th:only-of-type {\n",
       "        vertical-align: middle;\n",
       "    }\n",
       "\n",
       "    .dataframe tbody tr th {\n",
       "        vertical-align: top;\n",
       "    }\n",
       "\n",
       "    .dataframe thead th {\n",
       "        text-align: right;\n",
       "    }\n",
       "</style>\n",
       "<table border=\"1\" class=\"dataframe\">\n",
       "  <thead>\n",
       "    <tr style=\"text-align: right;\">\n",
       "      <th></th>\n",
       "      <th>category</th>\n",
       "      <th>total_sale</th>\n",
       "    </tr>\n",
       "  </thead>\n",
       "  <tbody>\n",
       "    <tr>\n",
       "      <th>0</th>\n",
       "      <td>Beauty</td>\n",
       "      <td>286790.0</td>\n",
       "    </tr>\n",
       "    <tr>\n",
       "      <th>1</th>\n",
       "      <td>Clothing</td>\n",
       "      <td>309995.0</td>\n",
       "    </tr>\n",
       "    <tr>\n",
       "      <th>2</th>\n",
       "      <td>Electronics</td>\n",
       "      <td>311445.0</td>\n",
       "    </tr>\n",
       "  </tbody>\n",
       "</table>\n",
       "</div>"
      ],
      "text/plain": [
       "      category  total_sale\n",
       "0       Beauty    286790.0\n",
       "1     Clothing    309995.0\n",
       "2  Electronics    311445.0"
      ]
     },
     "execution_count": 19,
     "metadata": {},
     "output_type": "execute_result"
    }
   ],
   "source": [
    "category_sales "
   ]
  },
  {
   "cell_type": "code",
   "execution_count": 20,
   "id": "d7e06c8a",
   "metadata": {},
   "outputs": [
    {
     "name": "stderr",
     "output_type": "stream",
     "text": [
      "C:\\Users\\sapta\\AppData\\Local\\Temp\\ipykernel_24908\\2763161453.py:6: FutureWarning: \n",
      "\n",
      "Passing `palette` without assigning `hue` is deprecated and will be removed in v0.14.0. Assign the `x` variable to `hue` and set `legend=False` for the same effect.\n",
      "\n",
      "  sns.barplot(data=category_sales, x='category', y='total_sale', palette='viridis')\n"
     ]
    },
    {
     "data": {
      "image/png": "[encoded data removed]",
      "text/plain": [
       "<Figure size 700x500 with 1 Axes>"
      ]
     },
     "metadata": {},
     "output_type": "display_data"
    }
   ],
   "source": [
    "# Sorting for better visualization\n",
    "category_sales = category_sales.sort_values(by='total_sale', ascending=False)\n",
    "\n",
    "# Plotting the barplot\n",
    "plt.figure(figsize=(7, 5))\n",
    "sns.barplot(data=category_sales, x='category', y='total_sale', palette='viridis')\n",
    "\n",
    "plt.title('Total Sales by Product Category')\n",
    "plt.xlabel('Product Category')\n",
    "plt.ylabel('Total Sales')\n",
    "plt.xticks(rotation=45)\n",
    "plt.tight_layout()\n",
    "plt.show()"
   ]
  },
  {
   "cell_type": "markdown",
   "id": "5dbf9a08",
   "metadata": {},
   "source": [
    "1) Top Revenue Generators:\n",
    "- Electronics and Clothing are the top two revenue-generating categories, each contributing over ₹3,00,000 in total sales.\n",
    "-This indicates strong customer interest and higher-priced products in these segments.\n",
    "2) Beauty Products:\n",
    "- While Beauty ranks third in total sales, it still contributes significantly, just slightly behind Clothing and Electronics.\n",
    "3) Strategic Focus:\n",
    "- Investing more in marketing or upselling Electronics and Clothing may yield higher returns."
   ]
  },
  {
   "cell_type": "markdown",
   "id": "4196dbf4",
   "metadata": {},
   "source": [
    "**Q.3) What is the gender-wise distribution of purchases across product categories?**"
   ]
  },
  {
   "cell_type": "code",
   "execution_count": 21,
   "id": "a7840502",
   "metadata": {},
   "outputs": [
    {
     "data": {
      "text/plain": [
       "1987"
      ]
     },
     "execution_count": 21,
     "metadata": {},
     "output_type": "execute_result"
    }
   ],
   "source": [
    "df['transactions_id'].nunique()"
   ]
  },
  {
   "cell_type": "markdown",
   "id": "39f17759",
   "metadata": {},
   "source": [
    "**Count of Transactions by Gender (Countplot)**\n"
   ]
  },
  {
   "cell_type": "code",
   "execution_count": 22,
   "id": "0d78be93",
   "metadata": {},
   "outputs": [
    {
     "data": {
      "image/png": "[encoded data removed]",
      "text/plain": [
       "<Figure size 1200x400 with 1 Axes>"
      ]
     },
     "metadata": {},
     "output_type": "display_data"
    }
   ],
   "source": [
    "plt.figure(figsize=(12, 4))\n",
    "sns.countplot(data=df, x='category', hue='gender') \n",
    "plt.title('Number of Transactions by Product Category and Gender')\n",
    "plt.xlabel('Category')\n",
    "plt.ylabel('Transaction Count')\n",
    "plt.legend(title='Gender')\n",
    "plt.tight_layout()\n",
    "plt.show()"
   ]
  },
  {
   "cell_type": "markdown",
   "id": "719d188e",
   "metadata": {},
   "source": [
    "From the barplot:\n",
    "- Clothing is the most purchased category by both genders, with nearly equal transaction counts — slightly higher for males.\n",
    "- In the Beauty category, females clearly lead in the number of transactions, indicating a stronger preference or higher purchase frequency.\n",
    "- Electronics shows a balanced interest, but males have a slightly higher number of transactions than females."
   ]
  },
  {
   "cell_type": "markdown",
   "id": "794ad44a",
   "metadata": {},
   "source": [
    "**Total Sales by Gender (Barplot)**"
   ]
  },
  {
   "cell_type": "code",
   "execution_count": 23,
   "id": "ffec9f9f",
   "metadata": {},
   "outputs": [
    {
     "data": {
      "image/png": "[encoded data removed]",
      "text/plain": [
       "<Figure size 1000x600 with 1 Axes>"
      ]
     },
     "metadata": {},
     "output_type": "display_data"
    }
   ],
   "source": [
    "plt.figure(figsize=(10, 6))\n",
    "sns.barplot(data=df, x='category', y='total_sale', hue='gender', estimator=sum)\n",
    "plt.title('Total Sales by Product Category and Gender')\n",
    "plt.xlabel('Product Category')\n",
    "plt.ylabel('Total Sales')\n",
    "plt.legend(title='Gender')\n",
    "plt.tight_layout()\n",
    "plt.show()"
   ]
  },
  {
   "cell_type": "markdown",
   "id": "e59b442f",
   "metadata": {},
   "source": [
    "1) Clothing:\n",
    "- Females spent more on clothing than males.\n",
    "- This could indicate that females are more active shoppers in this category or that their average order value is higher.\n",
    "2) Electronics:\n",
    "- Males spent more than females in this category.\n",
    "- Likely reflects higher male interest or higher-value purchases in electronics."
   ]
  },
  {
   "cell_type": "markdown",
   "id": "96d4caa9",
   "metadata": {},
   "source": [
    "Q.4) What is the age distribution of customers, and how does it vary by category?"
   ]
  },
  {
   "cell_type": "code",
   "execution_count": 24,
   "id": "87cfe517",
   "metadata": {},
   "outputs": [
    {
     "name": "stderr",
     "output_type": "stream",
     "text": [
      "C:\\Users\\sapta\\AppData\\Local\\Temp\\ipykernel_24908\\83263183.py:2: FutureWarning: \n",
      "\n",
      "Passing `palette` without assigning `hue` is deprecated and will be removed in v0.14.0. Assign the `x` variable to `hue` and set `legend=False` for the same effect.\n",
      "\n",
      "  sns.boxplot(data=df, x='category', y='age', palette='Set2')\n"
     ]
    },
    {
     "data": {
      "image/png": "[encoded data removed]",
      "text/plain": [
       "<Figure size 1000x500 with 1 Axes>"
      ]
     },
     "metadata": {},
     "output_type": "display_data"
    }
   ],
   "source": [
    "plt.figure(figsize=(10, 5))\n",
    "sns.boxplot(data=df, x='category', y='age', palette='Set2')\n",
    "plt.title('Age Distribution by Product Category')\n",
    "plt.xlabel('Product Category')\n",
    "plt.ylabel('Customer Age')\n",
    "plt.tight_layout()\n",
    "plt.show()"
   ]
  },
  {
   "cell_type": "markdown",
   "id": "a45eb658",
   "metadata": {},
   "source": [
    "1) Age Range is Similar Across Categories\n",
    "- All three categories — Clothing, Beauty, and Electronics — show a similar overall age range, roughly from 18 to 65 years.\n",
    "\n",
    "2) Median Age is Consistent\n",
    "- The median age (the line inside the box) is around 40–43 years across all categories.This indicates that customers from all categories are generally middle-aged.\n",
    "\n",
    "3) Clothing Has the Widest Spread\n",
    "- The interquartile range (IQR) (height of the box) for Clothing is slightly larger.Suggests that Clothing attracts both younger and older customers more evenly.\n",
    "\n",
    "4) Outliers are Minimal\n",
    "- No significant outliers are visible, indicating clean and consistent age data.\n",
    "\n"
   ]
  },
  {
   "cell_type": "markdown",
   "id": "10391cc6",
   "metadata": {},
   "source": [
    "Q.5) Which age group contributes the most to sales?"
   ]
  },
  {
   "cell_type": "code",
   "execution_count": 25,
   "id": "c4752479",
   "metadata": {},
   "outputs": [
    {
     "name": "stderr",
     "output_type": "stream",
     "text": [
      "C:\\Users\\sapta\\AppData\\Local\\Temp\\ipykernel_24908\\1626905294.py:11: FutureWarning: \n",
      "\n",
      "Passing `palette` without assigning `hue` is deprecated and will be removed in v0.14.0. Assign the `x` variable to `hue` and set `legend=False` for the same effect.\n",
      "\n",
      "  sns.barplot(x='age_group', y='total_sale', data=age_sales, palette='viridis')\n"
     ]
    },
    {
     "data": {
      "image/png": "[encoded data removed]",
      "text/plain": [
       "<Figure size 1000x600 with 1 Axes>"
      ]
     },
     "metadata": {},
     "output_type": "display_data"
    }
   ],
   "source": [
    "# Step 1: Create age bins\n",
    "age_bins = [18, 25, 35, 45, 55, 65, 100]\n",
    "age_labels = ['18-24', '25-34', '35-44', '45-54', '55-64', '65+']\n",
    "df['age_group'] = pd.cut(df['age'], bins=age_bins, labels=age_labels)\n",
    "\n",
    "# Step 2: Group by age group and sum sales\n",
    "age_sales = df.groupby('age_group')['total_sale'].sum().reset_index()\n",
    "\n",
    "# Step 3: Plot barplot\n",
    "plt.figure(figsize=(10, 6))\n",
    "sns.barplot(x='age_group', y='total_sale', data=age_sales, palette='viridis')\n",
    "\n",
    "plt.title('Total Sales by Age Group')\n",
    "plt.xlabel('Age Group')\n",
    "plt.ylabel('Total Sales')\n",
    "plt.tight_layout()\n",
    "plt.show()"
   ]
  },
  {
   "cell_type": "markdown",
   "id": "e1a3ec39",
   "metadata": {},
   "source": [
    "1) Top-Contributing Age Group:\n",
    "- Age group 45–54 contributes the highest total sales.\n",
    "- This group is likely the most financially stable and spends the most.\n",
    "\n",
    "2) High Sales Groups:\n",
    "- 25–34 and 35–44 are the next top contributors.\n",
    "- These are working professionals with growing income and purchasing power.\n",
    "\n",
    "3) Lower-Contributing Groups:\n",
    "- 18–24 and 55–64 show relatively lower total sales.\n",
    "- 18–24: Possibly students or early earners, with limited spending capacity.\n",
    "- 55–64: Moving towards retirement, possibly more cautious with spending."
   ]
  },
  {
   "cell_type": "markdown",
   "id": "47c616fa",
   "metadata": {},
   "source": [
    "Q.6) What are the sales trends over different dates or months?"
   ]
  },
  {
   "cell_type": "code",
   "execution_count": 26,
   "id": "280fc52e",
   "metadata": {},
   "outputs": [
    {
     "data": {
      "image/png": "[encoded data removed]",
      "text/plain": [
       "<Figure size 1200x600 with 1 Axes>"
      ]
     },
     "metadata": {},
     "output_type": "display_data"
    }
   ],
   "source": [
    "# Convert 'date' column to datetime format \n",
    "df['date'] = pd.to_datetime(df['sale_date'], format=\"%d-%m-%Y\")\n",
    "\n",
    "\n",
    "df['month'] = df['date'].dt.to_period('M') # Extract month and year for grouping\n",
    "\n",
    "# Group by month and sum sales\n",
    "monthly_sales = df.groupby('month')['total_sale'].sum().reset_index()\n",
    "\n",
    "# Convert 'month' to datetime for plotting\n",
    "monthly_sales['month'] = monthly_sales['month'].astype(str)\n",
    "monthly_sales['month'] = pd.to_datetime(monthly_sales['month'])\n",
    "\n",
    "# Plot sales trend\n",
    "plt.figure(figsize=(12,6))\n",
    "sns.lineplot(data=monthly_sales, x='month', y='total_sale', marker='o')\n",
    "plt.title('Monthly Sales Trend')\n",
    "plt.xlabel('Month')\n",
    "plt.ylabel('Total Sales')\n",
    "plt.xticks(rotation=45)\n",
    "plt.tight_layout()\n",
    "plt.show()"
   ]
  },
  {
   "cell_type": "markdown",
   "id": "7213dbff",
   "metadata": {},
   "source": [
    "1) Seasonal Peaks (Highest Sales Periods):\n",
    "- September to November 2022 and September to December 2023 show the highest spikes in total sales, especially around:\n",
    "     - November 2022 (₹72,000+)\n",
    "     - December 2023 (₹69,000+)\n",
    "- These are likely linked to festive seasons, year-end shopping, or promotional campaigns (like Diwali, Black Friday, Christmas, etc.).\n",
    "2) Off-Peak or Low Sales Periods:\n",
    "- January to August 2022 and January to August 2023 have relatively lower sales, staying mostly below ₹30,000.\n",
    "- February 2022 shows a sharp dip — potentially due to reduced consumer activity or post-festive season."
   ]
  },
  {
   "cell_type": "markdown",
   "id": "e01f5538",
   "metadata": {},
   "source": [
    "Q.7) Are there any outliers in COGS, price per unit, or quantity?"
   ]
  },
  {
   "cell_type": "code",
   "execution_count": 27,
   "id": "46a5bddf",
   "metadata": {},
   "outputs": [
    {
     "data": {
      "text/plain": [
       "Index(['transactions_id', 'sale_date', 'sale_time', 'customer_id', 'gender',\n",
       "       'age', 'category', 'quantiy', 'price_per_unit', 'cogs', 'total_sale',\n",
       "       'age_group', 'date', 'month'],\n",
       "      dtype='object')"
      ]
     },
     "execution_count": 27,
     "metadata": {},
     "output_type": "execute_result"
    }
   ],
   "source": [
    "df.columns"
   ]
  },
  {
   "cell_type": "code",
   "execution_count": 28,
   "id": "138e1aec",
   "metadata": {},
   "outputs": [
    {
     "data": {
      "image/png": "[encoded data removed]",
      "text/plain": [
       "<Figure size 1500x500 with 3 Axes>"
      ]
     },
     "metadata": {},
     "output_type": "display_data"
    }
   ],
   "source": [
    "# Define the numeric columns to inspect\n",
    "cols = ['cogs', 'price_per_unit', 'quantiy']\n",
    "\n",
    "# Create subplots\n",
    "plt.figure(figsize=(15, 5))\n",
    "\n",
    "for i, col in enumerate(cols): \n",
    "    plt.subplot(1, 3, i+1)\n",
    "    sns.boxplot(y=df[col], color='yellow')\n",
    "    plt.title(f'Boxplot of {col}')\n",
    "    plt.tight_layout()\n",
    "\n",
    "plt.show()"
   ]
  },
  {
   "cell_type": "markdown",
   "id": "e492d2c5",
   "metadata": {},
   "source": [
    "1. COGS (Cost of Goods Sold)\n",
    "- Skewed Distribution: The boxplot for cogs shows a long upper whisker and many outliers above the upper quartile, indicating a right-skewed distribution.\n",
    "- Outliers: There are several significant outliers (points well above the box), suggesting some transactions had very high costs compared to the majority.\n",
    "- Interpretation: These outliers may represent bulk purchases or premium products and might need to be:\n",
    "\n",
    "2. Price Per Unit\n",
    "- High Variability: There's a wide IQR (Interquartile Range), meaning unit prices vary greatly between products.\n",
    "- No Visible Outliers: Although the range is large, there are no extreme outliers, suggesting the variation is naturally distributed.\n",
    "- Interpretation: Prices vary across products/categories, but the data is clean and doesn't need outlier handling.\n",
    "\n",
    "3. Quantity\n",
    "- Limited Values: The boxplot shows a small set of distinct values (likely integers from 1 to 4).\n",
    "- No Outliers: The quantity appears well-distributed and tightly grouped.\n",
    "- Interpretation: This feature is already well-structured. No cleaning or transformation needed."
   ]
  },
  {
   "cell_type": "markdown",
   "id": "1d36bfb5",
   "metadata": {},
   "source": [
    "Q.8) Which shift (Morning, Afternoon, Evening) has the most transactions?"
   ]
  },
  {
   "cell_type": "code",
   "execution_count": 32,
   "id": "711497c5",
   "metadata": {},
   "outputs": [
    {
     "name": "stderr",
     "output_type": "stream",
     "text": [
      "C:\\Users\\sapta\\AppData\\Local\\Temp\\ipykernel_24908\\583122473.py:18: FutureWarning: \n",
      "\n",
      "Passing `palette` without assigning `hue` is deprecated and will be removed in v0.14.0. Assign the `x` variable to `hue` and set `legend=False` for the same effect.\n",
      "\n",
      "  sns.countplot(data=df, x='shift',order=['Morning', 'Afternoon', 'Evening'], palette='Set2')\n"
     ]
    },
    {
     "data": {
      "image/png": "[encoded data removed]",
      "text/plain": [
       "<Figure size 800x500 with 1 Axes>"
      ]
     },
     "metadata": {},
     "output_type": "display_data"
    }
   ],
   "source": [
    "# Convert 'sale_time' to datetime format \n",
    "df['sale_time'] = pd.to_datetime(df['sale_time'])\n",
    "\n",
    "#  A new 'shift' column\n",
    "def classify_shift(time):\n",
    "    hour = time.hour\n",
    "    if 6 <= hour < 12:\n",
    "        return 'Morning'\n",
    "    elif 12 <= hour < 18:\n",
    "        return 'Afternoon'\n",
    "    else:\n",
    "        return 'Evening'\n",
    "\n",
    "df['shift'] = df['sale_time'].apply(classify_shift) \n",
    "\n",
    "# Plotting\n",
    "plt.figure(figsize=(8, 5))\n",
    "sns.countplot(data=df, x='shift',order=['Morning', 'Afternoon', 'Evening'], palette='Set2')\n",
    "plt.title('Number of Transactions per Shift')\n",
    "plt.xlabel('Shift')\n",
    "plt.ylabel('Number of Transactions')\n",
    "plt.show()"
   ]
  },
  {
   "cell_type": "markdown",
   "id": "87c1d5f5",
   "metadata": {},
   "source": [
    "1)Evening Shift is the Peak Period\n",
    "- The Evening shift has the highest number of transactions, significantly more than both Morning and Afternoon.\n",
    "2)Morning Shift is Moderate\n",
    "- The Morning shift shows a moderate number of transactions.\n",
    "3)Afternoon Shift is the Lowest\n",
    "- The Afternoon shift has the fewest transactions."
   ]
  },
  {
   "cell_type": "markdown",
   "id": "cf5f0277",
   "metadata": {},
   "source": [
    "Q.9)Who are the top 10 customers by total sales, and how do their purchases vary by category?"
   ]
  },
  {
   "cell_type": "code",
   "execution_count": 33,
   "id": "6ffa65b5",
   "metadata": {},
   "outputs": [],
   "source": [
    "# Step 1: Group by customer and calculate total sales\n",
    "customer_sales = df.groupby('customer_id')['total_sale'].sum().reset_index()"
   ]
  },
  {
   "cell_type": "code",
   "execution_count": 34,
   "id": "0d61f654",
   "metadata": {},
   "outputs": [
    {
     "data": {
      "application/vnd.microsoft.datawrangler.viewer.v0+json": {
       "columns": [
        {
         "name": "index",
         "rawType": "int64",
         "type": "integer"
        },
        {
         "name": "customer_id",
         "rawType": "int64",
         "type": "integer"
        },
        {
         "name": "total_sale",
         "rawType": "float64",
         "type": "float"
        }
       ],
       "ref": "529ce219-90b9-4b35-93c6-9f01ba84887c",
       "rows": [
        [
         "0",
         "1",
         "30750.0"
        ],
        [
         "1",
         "2",
         "25295.0"
        ],
        [
         "2",
         "3",
         "38440.0"
        ],
        [
         "3",
         "4",
         "23580.0"
        ],
        [
         "4",
         "5",
         "30405.0"
        ],
        [
         "5",
         "6",
         "1625.0"
        ],
        [
         "6",
         "7",
         "1695.0"
        ],
        [
         "7",
         "8",
         "2330.0"
        ],
        [
         "8",
         "9",
         "2880.0"
        ],
        [
         "9",
         "10",
         "2450.0"
        ],
        [
         "10",
         "11",
         "5700.0"
        ],
        [
         "11",
         "12",
         "1640.0"
        ],
        [
         "12",
         "13",
         "3285.0"
        ],
        [
         "13",
         "14",
         "3990.0"
        ],
        [
         "14",
         "15",
         "2775.0"
        ],
        [
         "15",
         "16",
         "5095.0"
        ],
        [
         "16",
         "17",
         "620.0"
        ],
        [
         "17",
         "18",
         "4090.0"
        ],
        [
         "18",
         "19",
         "3390.0"
        ],
        [
         "19",
         "20",
         "3625.0"
        ],
        [
         "20",
         "21",
         "4650.0"
        ],
        [
         "21",
         "22",
         "3755.0"
        ],
        [
         "22",
         "23",
         "845.0"
        ],
        [
         "23",
         "24",
         "3685.0"
        ],
        [
         "24",
         "25",
         "1705.0"
        ],
        [
         "25",
         "26",
         "2630.0"
        ],
        [
         "26",
         "27",
         "2450.0"
        ],
        [
         "27",
         "28",
         "5120.0"
        ],
        [
         "28",
         "29",
         "8455.0"
        ],
        [
         "29",
         "30",
         "6860.0"
        ],
        [
         "30",
         "31",
         "1235.0"
        ],
        [
         "31",
         "32",
         "7115.0"
        ],
        [
         "32",
         "33",
         "1655.0"
        ],
        [
         "33",
         "34",
         "4100.0"
        ],
        [
         "34",
         "35",
         "2260.0"
        ],
        [
         "35",
         "36",
         "2990.0"
        ],
        [
         "36",
         "37",
         "6740.0"
        ],
        [
         "37",
         "38",
         "2660.0"
        ],
        [
         "38",
         "39",
         "2125.0"
        ],
        [
         "39",
         "40",
         "2425.0"
        ],
        [
         "40",
         "41",
         "4190.0"
        ],
        [
         "41",
         "42",
         "3415.0"
        ],
        [
         "42",
         "43",
         "3050.0"
        ],
        [
         "43",
         "44",
         "2645.0"
        ],
        [
         "44",
         "45",
         "3300.0"
        ],
        [
         "45",
         "46",
         "3780.0"
        ],
        [
         "46",
         "47",
         "2735.0"
        ],
        [
         "47",
         "48",
         "5870.0"
        ],
        [
         "48",
         "49",
         "3350.0"
        ],
        [
         "49",
         "50",
         "6480.0"
        ]
       ],
       "shape": {
        "columns": 2,
        "rows": 155
       }
      },
      "text/html": [
       "<div>\n",
       "<style scoped>\n",
       "    .dataframe tbody tr th:only-of-type {\n",
       "        vertical-align: middle;\n",
       "    }\n",
       "\n",
       "    .dataframe tbody tr th {\n",
       "        vertical-align: top;\n",
       "    }\n",
       "\n",
       "    .dataframe thead th {\n",
       "        text-align: right;\n",
       "    }\n",
       "</style>\n",
       "<table border=\"1\" class=\"dataframe\">\n",
       "  <thead>\n",
       "    <tr style=\"text-align: right;\">\n",
       "      <th></th>\n",
       "      <th>customer_id</th>\n",
       "      <th>total_sale</th>\n",
       "    </tr>\n",
       "  </thead>\n",
       "  <tbody>\n",
       "    <tr>\n",
       "      <th>0</th>\n",
       "      <td>1</td>\n",
       "      <td>30750.0</td>\n",
       "    </tr>\n",
       "    <tr>\n",
       "      <th>1</th>\n",
       "      <td>2</td>\n",
       "      <td>25295.0</td>\n",
       "    </tr>\n",
       "    <tr>\n",
       "      <th>2</th>\n",
       "      <td>3</td>\n",
       "      <td>38440.0</td>\n",
       "    </tr>\n",
       "    <tr>\n",
       "      <th>3</th>\n",
       "      <td>4</td>\n",
       "      <td>23580.0</td>\n",
       "    </tr>\n",
       "    <tr>\n",
       "      <th>4</th>\n",
       "      <td>5</td>\n",
       "      <td>30405.0</td>\n",
       "    </tr>\n",
       "    <tr>\n",
       "      <th>...</th>\n",
       "      <td>...</td>\n",
       "      <td>...</td>\n",
       "    </tr>\n",
       "    <tr>\n",
       "      <th>150</th>\n",
       "      <td>151</td>\n",
       "      <td>2950.0</td>\n",
       "    </tr>\n",
       "    <tr>\n",
       "      <th>151</th>\n",
       "      <td>152</td>\n",
       "      <td>1830.0</td>\n",
       "    </tr>\n",
       "    <tr>\n",
       "      <th>152</th>\n",
       "      <td>153</td>\n",
       "      <td>2225.0</td>\n",
       "    </tr>\n",
       "    <tr>\n",
       "      <th>153</th>\n",
       "      <td>154</td>\n",
       "      <td>1605.0</td>\n",
       "    </tr>\n",
       "    <tr>\n",
       "      <th>154</th>\n",
       "      <td>155</td>\n",
       "      <td>1755.0</td>\n",
       "    </tr>\n",
       "  </tbody>\n",
       "</table>\n",
       "<p>155 rows × 2 columns</p>\n",
       "</div>"
      ],
      "text/plain": [
       "     customer_id  total_sale\n",
       "0              1     30750.0\n",
       "1              2     25295.0\n",
       "2              3     38440.0\n",
       "3              4     23580.0\n",
       "4              5     30405.0\n",
       "..           ...         ...\n",
       "150          151      2950.0\n",
       "151          152      1830.0\n",
       "152          153      2225.0\n",
       "153          154      1605.0\n",
       "154          155      1755.0\n",
       "\n",
       "[155 rows x 2 columns]"
      ]
     },
     "execution_count": 34,
     "metadata": {},
     "output_type": "execute_result"
    }
   ],
   "source": [
    "customer_sales"
   ]
  },
  {
   "cell_type": "code",
   "execution_count": 35,
   "id": "3ce61487",
   "metadata": {},
   "outputs": [],
   "source": [
    "# Step 2: Sort and get top 10 customers\n",
    "top_customers = customer_sales.sort_values(by='total_sale', ascending=False).head(10)"
   ]
  },
  {
   "cell_type": "code",
   "execution_count": null,
   "id": "0f04b721",
   "metadata": {},
   "outputs": [
    {
     "data": {
      "application/vnd.microsoft.datawrangler.viewer.v0+json": {
       "columns": [
        {
         "name": "index",
         "rawType": "int64",
         "type": "integer"
        },
        {
         "name": "customer_id",
         "rawType": "int64",
         "type": "integer"
        },
        {
         "name": "total_sale",
         "rawType": "float64",
         "type": "float"
        }
       ],
       "ref": "338311ee-7502-4258-96b1-8ede9c0b4094",
       "rows": [
        [
         "2",
         "3",
         "38440.0"
        ],
        [
         "0",
         "1",
         "30750.0"
        ],
        [
         "4",
         "5",
         "30405.0"
        ],
        [
         "1",
         "2",
         "25295.0"
        ],
        [
         "3",
         "4",
         "23580.0"
        ],
        [
         "86",
         "87",
         "15855.0"
        ],
        [
         "53",
         "54",
         "13475.0"
        ],
        [
         "70",
         "71",
         "12790.0"
        ],
        [
         "54",
         "55",
         "12080.0"
        ],
        [
         "83",
         "84",
         "11730.0"
        ]
       ],
       "shape": {
        "columns": 2,
        "rows": 10
       }
      },
      "text/html": [
       "<div>\n",
       "<style scoped>\n",
       "    .dataframe tbody tr th:only-of-type {\n",
       "        vertical-align: middle;\n",
       "    }\n",
       "\n",
       "    .dataframe tbody tr th {\n",
       "        vertical-align: top;\n",
       "    }\n",
       "\n",
       "    .dataframe thead th {\n",
       "        text-align: right;\n",
       "    }\n",
       "</style>\n",
       "<table border=\"1\" class=\"dataframe\">\n",
       "  <thead>\n",
       "    <tr style=\"text-align: right;\">\n",
       "      <th></th>\n",
       "      <th>customer_id</th>\n",
       "      <th>total_sale</th>\n",
       "    </tr>\n",
       "  </thead>\n",
       "  <tbody>\n",
       "    <tr>\n",
       "      <th>2</th>\n",
       "      <td>3</td>\n",
       "      <td>38440.0</td>\n",
       "    </tr>\n",
       "    <tr>\n",
       "      <th>0</th>\n",
       "      <td>1</td>\n",
       "      <td>30750.0</td>\n",
       "    </tr>\n",
       "    <tr>\n",
       "      <th>4</th>\n",
       "      <td>5</td>\n",
       "      <td>30405.0</td>\n",
       "    </tr>\n",
       "    <tr>\n",
       "      <th>1</th>\n",
       "      <td>2</td>\n",
       "      <td>25295.0</td>\n",
       "    </tr>\n",
       "    <tr>\n",
       "      <th>3</th>\n",
       "      <td>4</td>\n",
       "      <td>23580.0</td>\n",
       "    </tr>\n",
       "    <tr>\n",
       "      <th>86</th>\n",
       "      <td>87</td>\n",
       "      <td>15855.0</td>\n",
       "    </tr>\n",
       "    <tr>\n",
       "      <th>53</th>\n",
       "      <td>54</td>\n",
       "      <td>13475.0</td>\n",
       "    </tr>\n",
       "    <tr>\n",
       "      <th>70</th>\n",
       "      <td>71</td>\n",
       "      <td>12790.0</td>\n",
       "    </tr>\n",
       "    <tr>\n",
       "      <th>54</th>\n",
       "      <td>55</td>\n",
       "      <td>12080.0</td>\n",
       "    </tr>\n",
       "    <tr>\n",
       "      <th>83</th>\n",
       "      <td>84</td>\n",
       "      <td>11730.0</td>\n",
       "    </tr>\n",
       "  </tbody>\n",
       "</table>\n",
       "</div>"
      ],
      "text/plain": [
       "    customer_id  total_sale\n",
       "2             3     38440.0\n",
       "0             1     30750.0\n",
       "4             5     30405.0\n",
       "1             2     25295.0\n",
       "3             4     23580.0\n",
       "86           87     15855.0\n",
       "53           54     13475.0\n",
       "70           71     12790.0\n",
       "54           55     12080.0\n",
       "83           84     11730.0"
      ]
     },
     "execution_count": 36,
     "metadata": {},
     "output_type": "execute_result"
    }
   ],
   "source": [
    "top_customers  "
   ]
  },
  {
   "cell_type": "code",
   "execution_count": 37,
   "id": "31b86ee3",
   "metadata": {},
   "outputs": [],
   "source": [
    "# Step 3: Filter original data to include only top 10 customers\n",
    "top_customer_data = df[df['customer_id'].isin(top_customers['customer_id'])]"
   ]
  },
  {
   "cell_type": "code",
   "execution_count": 38,
   "id": "d3ce9ddd",
   "metadata": {},
   "outputs": [
    {
     "data": {
      "application/vnd.microsoft.datawrangler.viewer.v0+json": {
       "columns": [
        {
         "name": "index",
         "rawType": "int64",
         "type": "integer"
        },
        {
         "name": "transactions_id",
         "rawType": "int64",
         "type": "integer"
        },
        {
         "name": "sale_date",
         "rawType": "object",
         "type": "string"
        },
        {
         "name": "sale_time",
         "rawType": "datetime64[ns]",
         "type": "datetime"
        },
        {
         "name": "customer_id",
         "rawType": "int64",
         "type": "integer"
        },
        {
         "name": "gender",
         "rawType": "object",
         "type": "string"
        },
        {
         "name": "age",
         "rawType": "float64",
         "type": "float"
        },
        {
         "name": "category",
         "rawType": "object",
         "type": "string"
        },
        {
         "name": "quantiy",
         "rawType": "float64",
         "type": "float"
        },
        {
         "name": "price_per_unit",
         "rawType": "float64",
         "type": "float"
        },
        {
         "name": "cogs",
         "rawType": "float64",
         "type": "float"
        },
        {
         "name": "total_sale",
         "rawType": "float64",
         "type": "float"
        },
        {
         "name": "age_group",
         "rawType": "category",
         "type": "unknown"
        },
        {
         "name": "date",
         "rawType": "datetime64[ns]",
         "type": "datetime"
        },
        {
         "name": "month",
         "rawType": "period[M]",
         "type": "unknown"
        },
        {
         "name": "shift",
         "rawType": "object",
         "type": "string"
        }
       ],
       "ref": "17372490-54ba-4784-b29d-6956ffd3ea81",
       "rows": [
        [
         "2",
         "559",
         "12-12-2022",
         "2025-07-21 10:48:00",
         "5",
         "Female",
         "40.0",
         "Clothing",
         "4.0",
         "300.0",
         "84.0",
         "1200.0",
         "35-44",
         "2022-12-12 00:00:00",
         "2022-12",
         "Morning"
        ],
        [
         "7",
         "303",
         "22-04-2022",
         "2025-07-21 11:09:00",
         "54",
         "Male",
         "19.0",
         "Electronics",
         "3.0",
         "30.0",
         "14.7",
         "90.0",
         "18-24",
         "2022-04-22 00:00:00",
         "2022-04",
         "Morning"
        ],
        [
         "15",
         "1610",
         "23-11-2022",
         "2025-07-21 10:18:00",
         "1",
         "Female",
         "26.0",
         "Beauty",
         "2.0",
         "300.0",
         "102.0",
         "600.0",
         "25-34",
         "2022-11-23 00:00:00",
         "2022-11",
         "Morning"
        ],
        [
         "19",
         "1032",
         "01-04-2022",
         "2025-07-21 08:15:00",
         "1",
         "Male",
         "30.0",
         "Beauty",
         "3.0",
         "30.0",
         "10.5",
         "90.0",
         "25-34",
         "2022-04-01 00:00:00",
         "2022-04",
         "Morning"
        ],
        [
         "50",
         "1679",
         "23-09-2022",
         "2025-07-21 08:08:00",
         "71",
         "Female",
         "18.0",
         "Beauty",
         "3.0",
         "30.0",
         "15.3",
         "90.0",
         null,
         "2022-09-23 00:00:00",
         "2022-09",
         "Morning"
        ],
        [
         "71",
         "1499",
         "23-09-2022",
         "2025-07-21 09:46:00",
         "3",
         "Male",
         "46.0",
         "Beauty",
         "2.0",
         "30.0",
         "11.7",
         "60.0",
         "45-54",
         "2022-09-23 00:00:00",
         "2022-09",
         "Morning"
        ],
        [
         "72",
         "1697",
         "18-12-2022",
         "2025-07-21 08:22:00",
         "54",
         "Male",
         "53.0",
         "Clothing",
         "1.0",
         "500.0",
         "265.0",
         "500.0",
         "45-54",
         "2022-12-18 00:00:00",
         "2022-12",
         "Morning"
        ],
        [
         "75",
         "743",
         "07-08-2022",
         "2025-07-21 07:54:00",
         "55",
         "Female",
         "34.0",
         "Beauty",
         "4.0",
         "500.0",
         "260.0",
         "2000.0",
         "25-34",
         "2022-08-07 00:00:00",
         "2022-08",
         "Morning"
        ],
        [
         "118",
         "618",
         "13-10-2022",
         "2025-07-21 10:22:00",
         "5",
         "Female",
         "27.0",
         "Beauty",
         "1.0",
         "50.0",
         "26.0",
         "50.0",
         "25-34",
         "2022-10-13 00:00:00",
         "2022-10",
         "Morning"
        ],
        [
         "128",
         "1736",
         "28-08-2022",
         "2025-07-21 08:57:00",
         "87",
         "Male",
         "29.0",
         "Clothing",
         "4.0",
         "25.0",
         "10.25",
         "100.0",
         "25-34",
         "2022-08-28 00:00:00",
         "2022-08",
         "Morning"
        ],
        [
         "149",
         "1235",
         "04-04-2022",
         "2025-07-21 06:44:00",
         "87",
         "Female",
         "23.0",
         "Electronics",
         "2.0",
         "500.0",
         "220.0",
         "1000.0",
         "18-24",
         "2022-04-04 00:00:00",
         "2022-04",
         "Morning"
        ],
        [
         "152",
         "269",
         "19-09-2022",
         "2025-07-21 11:31:00",
         "87",
         "Male",
         "25.0",
         "Clothing",
         "4.0",
         "500.0",
         "250.0",
         "2000.0",
         "18-24",
         "2022-09-19 00:00:00",
         "2022-09",
         "Morning"
        ],
        [
         "155",
         "1269",
         "01-01-2022",
         "2025-07-21 08:09:00",
         "71",
         "Male",
         "25.0",
         "Clothing",
         "4.0",
         "500.0",
         "145.0",
         "2000.0",
         "18-24",
         "2022-01-01 00:00:00",
         "2022-01",
         "Morning"
        ],
        [
         "161",
         "1142",
         "09-11-2022",
         "2025-07-21 09:49:00",
         "2",
         "Male",
         "35.0",
         "Electronics",
         "4.0",
         "300.0",
         "114.0",
         "1200.0",
         "25-34",
         "2022-11-09 00:00:00",
         "2022-11",
         "Morning"
        ],
        [
         "169",
         "335",
         "02-02-2022",
         "2025-07-21 09:23:00",
         "2",
         "Female",
         "47.0",
         "Beauty",
         "4.0",
         "30.0",
         "10.8",
         "120.0",
         "45-54",
         "2022-02-02 00:00:00",
         "2022-02",
         "Morning"
        ],
        [
         "179",
         "793",
         "27-05-2022",
         "2025-07-21 10:53:00",
         "1",
         "Male",
         "54.0",
         "Beauty",
         "1.0",
         "30.0",
         "14.7",
         "30.0",
         "45-54",
         "2022-05-27 00:00:00",
         "2022-05",
         "Morning"
        ],
        [
         "181",
         "1195",
         "21-09-2022",
         "2025-07-21 07:07:00",
         "55",
         "Male",
         "52.0",
         "Clothing",
         "1.0",
         "30.0",
         "12.0",
         "30.0",
         "45-54",
         "2022-09-21 00:00:00",
         "2022-09",
         "Morning"
        ],
        [
         "198",
         "596",
         "12-02-2022",
         "2025-07-21 08:44:00",
         "87",
         "Female",
         "64.0",
         "Electronics",
         "1.0",
         "300.0",
         "93.0",
         "300.0",
         "55-64",
         "2022-02-12 00:00:00",
         "2022-02",
         "Morning"
        ],
        [
         "228",
         "1732",
         "25-02-2022",
         "2025-07-21 07:05:00",
         "55",
         "Male",
         "61.0",
         "Electronics",
         "2.0",
         "500.0",
         "215.0",
         "1000.0",
         "55-64",
         "2022-02-25 00:00:00",
         "2022-02",
         "Morning"
        ],
        [
         "229",
         "1972",
         "21-12-2022",
         "2025-07-21 06:39:00",
         "5",
         "Male",
         "49.0",
         "Beauty",
         "4.0",
         "25.0",
         "9.25",
         "100.0",
         "45-54",
         "2022-12-21 00:00:00",
         "2022-12",
         "Morning"
        ],
        [
         "232",
         "193",
         "27-03-2022",
         "2025-07-21 10:40:00",
         "55",
         "Male",
         "35.0",
         "Beauty",
         "3.0",
         "500.0",
         "180.0",
         "1500.0",
         "25-34",
         "2022-03-27 00:00:00",
         "2022-03",
         "Morning"
        ],
        [
         "249",
         "416",
         "21-08-2022",
         "2025-07-21 09:29:00",
         "55",
         "Male",
         "53.0",
         "Electronics",
         "4.0",
         "500.0",
         "245.0",
         "2000.0",
         "45-54",
         "2022-08-21 00:00:00",
         "2022-08",
         "Morning"
        ],
        [
         "258",
         "256",
         "09-01-2022",
         "2025-07-21 08:05:00",
         "3",
         "Male",
         "23.0",
         "Clothing",
         "2.0",
         "500.0",
         "270.0",
         "1000.0",
         "18-24",
         "2022-01-09 00:00:00",
         "2022-01",
         "Morning"
        ],
        [
         "289",
         "400",
         "08-03-2022",
         "2025-07-21 09:52:00",
         "2",
         "Male",
         "53.0",
         "Clothing",
         "4.0",
         "50.0",
         "24.0",
         "200.0",
         "45-54",
         "2022-03-08 00:00:00",
         "2022-03",
         "Morning"
        ],
        [
         "295",
         "1800",
         "21-08-2022",
         "2025-07-21 10:53:00",
         "1",
         "Male",
         "32.0",
         "Clothing",
         "4.0",
         "300.0",
         "111.0",
         "1200.0",
         "25-34",
         "2022-08-21 00:00:00",
         "2022-08",
         "Morning"
        ],
        [
         "297",
         "473",
         "25-09-2022",
         "2025-07-21 10:09:00",
         "1",
         "Male",
         "64.0",
         "Beauty",
         "1.0",
         "50.0",
         "14.5",
         "50.0",
         "55-64",
         "2022-09-25 00:00:00",
         "2022-09",
         "Morning"
        ],
        [
         "318",
         "1152",
         "26-12-2022",
         "2025-07-21 07:48:00",
         "87",
         "Male",
         "43.0",
         "Electronics",
         "4.0",
         "500.0",
         "170.0",
         "2000.0",
         "35-44",
         "2022-12-26 00:00:00",
         "2022-12",
         "Morning"
        ],
        [
         "328",
         "947",
         "31-07-2022",
         "2025-07-21 07:09:00",
         "4",
         "Male",
         "50.0",
         "Beauty",
         "1.0",
         "300.0",
         "129.0",
         "300.0",
         "45-54",
         "2022-07-31 00:00:00",
         "2022-07",
         "Morning"
        ],
        [
         "341",
         "1621",
         "22-09-2022",
         "2025-07-21 10:49:00",
         "2",
         "Female",
         "40.0",
         "Beauty",
         "2.0",
         "500.0",
         "160.0",
         "1000.0",
         "35-44",
         "2022-09-22 00:00:00",
         "2022-09",
         "Morning"
        ],
        [
         "342",
         "52",
         "19-09-2022",
         "2025-07-21 09:42:00",
         "55",
         "Female",
         "36.0",
         "Beauty",
         "1.0",
         "300.0",
         "111.0",
         "300.0",
         "35-44",
         "2022-09-19 00:00:00",
         "2022-09",
         "Morning"
        ],
        [
         "356",
         "547",
         "14-11-2022",
         "2025-07-21 07:36:00",
         "3",
         "Male",
         "63.0",
         "Clothing",
         "4.0",
         "500.0",
         "250.0",
         "2000.0",
         "55-64",
         "2022-11-14 00:00:00",
         "2022-11",
         "Morning"
        ],
        [
         "364",
         "248",
         "02-07-2022",
         "2025-07-21 07:11:00",
         "5",
         "Male",
         "26.0",
         "Clothing",
         "3.0",
         "300.0",
         "126.0",
         "900.0",
         "25-34",
         "2022-07-02 00:00:00",
         "2022-07",
         "Morning"
        ],
        [
         "369",
         "1377",
         "21-03-2022",
         "2025-07-21 07:52:00",
         "71",
         "Female",
         "46.0",
         "Clothing",
         "4.0",
         "50.0",
         "14.0",
         "200.0",
         "45-54",
         "2022-03-21 00:00:00",
         "2022-03",
         "Morning"
        ],
        [
         "382",
         "278",
         "22-12-2023",
         "2025-07-21 11:42:00",
         "71",
         "Female",
         "37.0",
         "Clothing",
         "4.0",
         "25.0",
         "13.5",
         "100.0",
         "35-44",
         "2023-12-22 00:00:00",
         "2023-12",
         "Morning"
        ],
        [
         "384",
         "1119",
         "19-11-2023",
         "2025-07-21 09:36:00",
         "1",
         "Female",
         "60.0",
         "Clothing",
         "3.0",
         "50.0",
         "25.5",
         "150.0",
         "55-64",
         "2023-11-19 00:00:00",
         "2023-11",
         "Morning"
        ],
        [
         "396",
         "1436",
         "20-01-2023",
         "2025-07-21 11:29:00",
         "1",
         "Female",
         "57.0",
         "Clothing",
         "4.0",
         "30.0",
         "9.9",
         "120.0",
         "55-64",
         "2023-01-20 00:00:00",
         "2023-01",
         "Morning"
        ],
        [
         "455",
         "1703",
         "10-06-2023",
         "2025-07-21 08:36:00",
         "2",
         "Male",
         "34.0",
         "Electronics",
         "2.0",
         "50.0",
         "17.0",
         "100.0",
         "25-34",
         "2023-06-10 00:00:00",
         "2023-06",
         "Morning"
        ],
        [
         "468",
         "462",
         "26-08-2023",
         "2025-07-21 10:04:00",
         "71",
         "Male",
         "63.0",
         "Electronics",
         "4.0",
         "300.0",
         "132.0",
         "1200.0",
         "55-64",
         "2023-08-26 00:00:00",
         "2023-08",
         "Morning"
        ],
        [
         "486",
         "1719",
         "28-12-2023",
         "2025-07-21 07:29:00",
         "4",
         "Female",
         "42.0",
         "Clothing",
         "2.0",
         "30.0",
         "10.8",
         "60.0",
         "35-44",
         "2023-12-28 00:00:00",
         "2023-12",
         "Morning"
        ],
        [
         "489",
         "928",
         "05-11-2023",
         "2025-07-21 10:20:00",
         "54",
         "Female",
         "35.0",
         "Clothing",
         "4.0",
         "300.0",
         "90.0",
         "1200.0",
         "25-34",
         "2023-11-05 00:00:00",
         "2023-11",
         "Morning"
        ],
        [
         "495",
         "275",
         "05-03-2023",
         "2025-07-21 11:34:00",
         "2",
         "Male",
         "43.0",
         "Clothing",
         "2.0",
         "500.0",
         "260.0",
         "1000.0",
         "35-44",
         "2023-03-05 00:00:00",
         "2023-03",
         "Morning"
        ],
        [
         "496",
         "314",
         "15-10-2023",
         "2025-07-21 07:37:00",
         "1",
         "Male",
         "52.0",
         "Clothing",
         "4.0",
         "30.0",
         "7.8",
         "120.0",
         "45-54",
         "2023-10-15 00:00:00",
         "2023-10",
         "Morning"
        ],
        [
         "497",
         "517",
         "20-08-2023",
         "2025-07-21 08:54:00",
         "3",
         "Female",
         "47.0",
         "Clothing",
         "4.0",
         "25.0",
         "9.25",
         "100.0",
         "45-54",
         "2023-08-20 00:00:00",
         "2023-08",
         "Morning"
        ],
        [
         "498",
         "847",
         "10-01-2023",
         "2025-07-21 08:42:00",
         "2",
         "Female",
         "18.0",
         "Electronics",
         "4.0",
         "300.0",
         "162.0",
         "1200.0",
         null,
         "2023-01-10 00:00:00",
         "2023-01",
         "Morning"
        ],
        [
         "499",
         "1255",
         "20-01-2023",
         "2025-07-21 07:08:00",
         "4",
         "Male",
         "48.0",
         "Clothing",
         "1.0",
         "30.0",
         "7.8",
         "30.0",
         "45-54",
         "2023-01-20 00:00:00",
         "2023-01",
         "Morning"
        ],
        [
         "500",
         "1275",
         "02-03-2023",
         "2025-07-21 08:48:00",
         "5",
         "Male",
         "43.0",
         "Clothing",
         "2.0",
         "500.0",
         "250.0",
         "1000.0",
         "35-44",
         "2023-03-02 00:00:00",
         "2023-03",
         "Morning"
        ],
        [
         "501",
         "1314",
         "23-05-2023",
         "2025-07-21 10:26:00",
         "2",
         "Male",
         "52.0",
         "Clothing",
         "4.0",
         "30.0",
         "16.2",
         "120.0",
         "45-54",
         "2023-05-23 00:00:00",
         "2023-05",
         "Morning"
        ],
        [
         "502",
         "1517",
         "21-02-2023",
         "2025-07-21 08:46:00",
         "2",
         "Female",
         "47.0",
         "Clothing",
         "4.0",
         "25.0",
         "6.75",
         "100.0",
         "45-54",
         "2023-02-21 00:00:00",
         "2023-02",
         "Morning"
        ],
        [
         "503",
         "1847",
         "28-07-2023",
         "2025-07-21 07:14:00",
         "5",
         "Female",
         "18.0",
         "Electronics",
         "4.0",
         "300.0",
         "123.0",
         "1200.0",
         null,
         "2023-07-28 00:00:00",
         "2023-07",
         "Morning"
        ],
        [
         "504",
         "61",
         "07-07-2023",
         "2025-07-21 11:47:00",
         "4",
         "Male",
         "21.0",
         "Beauty",
         "4.0",
         "50.0",
         "20.0",
         "200.0",
         "18-24",
         "2023-07-07 00:00:00",
         "2023-07",
         "Morning"
        ]
       ],
       "shape": {
        "columns": 15,
        "rows": 457
       }
      },
      "text/html": [
       "<div>\n",
       "<style scoped>\n",
       "    .dataframe tbody tr th:only-of-type {\n",
       "        vertical-align: middle;\n",
       "    }\n",
       "\n",
       "    .dataframe tbody tr th {\n",
       "        vertical-align: top;\n",
       "    }\n",
       "\n",
       "    .dataframe thead th {\n",
       "        text-align: right;\n",
       "    }\n",
       "</style>\n",
       "<table border=\"1\" class=\"dataframe\">\n",
       "  <thead>\n",
       "    <tr style=\"text-align: right;\">\n",
       "      <th></th>\n",
       "      <th>transactions_id</th>\n",
       "      <th>sale_date</th>\n",
       "      <th>sale_time</th>\n",
       "      <th>customer_id</th>\n",
       "      <th>gender</th>\n",
       "      <th>age</th>\n",
       "      <th>category</th>\n",
       "      <th>quantiy</th>\n",
       "      <th>price_per_unit</th>\n",
       "      <th>cogs</th>\n",
       "      <th>total_sale</th>\n",
       "      <th>age_group</th>\n",
       "      <th>date</th>\n",
       "      <th>month</th>\n",
       "      <th>shift</th>\n",
       "    </tr>\n",
       "  </thead>\n",
       "  <tbody>\n",
       "    <tr>\n",
       "      <th>2</th>\n",
       "      <td>559</td>\n",
       "      <td>12-12-2022</td>\n",
       "      <td>2025-07-21 10:48:00</td>\n",
       "      <td>5</td>\n",
       "      <td>Female</td>\n",
       "      <td>40.0</td>\n",
       "      <td>Clothing</td>\n",
       "      <td>4.0</td>\n",
       "      <td>300.0</td>\n",
       "      <td>84.0</td>\n",
       "      <td>1200.0</td>\n",
       "      <td>35-44</td>\n",
       "      <td>2022-12-12</td>\n",
       "      <td>2022-12</td>\n",
       "      <td>Morning</td>\n",
       "    </tr>\n",
       "    <tr>\n",
       "      <th>7</th>\n",
       "      <td>303</td>\n",
       "      <td>22-04-2022</td>\n",
       "      <td>2025-07-21 11:09:00</td>\n",
       "      <td>54</td>\n",
       "      <td>Male</td>\n",
       "      <td>19.0</td>\n",
       "      <td>Electronics</td>\n",
       "      <td>3.0</td>\n",
       "      <td>30.0</td>\n",
       "      <td>14.7</td>\n",
       "      <td>90.0</td>\n",
       "      <td>18-24</td>\n",
       "      <td>2022-04-22</td>\n",
       "      <td>2022-04</td>\n",
       "      <td>Morning</td>\n",
       "    </tr>\n",
       "    <tr>\n",
       "      <th>15</th>\n",
       "      <td>1610</td>\n",
       "      <td>23-11-2022</td>\n",
       "      <td>2025-07-21 10:18:00</td>\n",
       "      <td>1</td>\n",
       "      <td>Female</td>\n",
       "      <td>26.0</td>\n",
       "      <td>Beauty</td>\n",
       "      <td>2.0</td>\n",
       "      <td>300.0</td>\n",
       "      <td>102.0</td>\n",
       "      <td>600.0</td>\n",
       "      <td>25-34</td>\n",
       "      <td>2022-11-23</td>\n",
       "      <td>2022-11</td>\n",
       "      <td>Morning</td>\n",
       "    </tr>\n",
       "    <tr>\n",
       "      <th>19</th>\n",
       "      <td>1032</td>\n",
       "      <td>01-04-2022</td>\n",
       "      <td>2025-07-21 08:15:00</td>\n",
       "      <td>1</td>\n",
       "      <td>Male</td>\n",
       "      <td>30.0</td>\n",
       "      <td>Beauty</td>\n",
       "      <td>3.0</td>\n",
       "      <td>30.0</td>\n",
       "      <td>10.5</td>\n",
       "      <td>90.0</td>\n",
       "      <td>25-34</td>\n",
       "      <td>2022-04-01</td>\n",
       "      <td>2022-04</td>\n",
       "      <td>Morning</td>\n",
       "    </tr>\n",
       "    <tr>\n",
       "      <th>50</th>\n",
       "      <td>1679</td>\n",
       "      <td>23-09-2022</td>\n",
       "      <td>2025-07-21 08:08:00</td>\n",
       "      <td>71</td>\n",
       "      <td>Female</td>\n",
       "      <td>18.0</td>\n",
       "      <td>Beauty</td>\n",
       "      <td>3.0</td>\n",
       "      <td>30.0</td>\n",
       "      <td>15.3</td>\n",
       "      <td>90.0</td>\n",
       "      <td>NaN</td>\n",
       "      <td>2022-09-23</td>\n",
       "      <td>2022-09</td>\n",
       "      <td>Morning</td>\n",
       "    </tr>\n",
       "    <tr>\n",
       "      <th>...</th>\n",
       "      <td>...</td>\n",
       "      <td>...</td>\n",
       "      <td>...</td>\n",
       "      <td>...</td>\n",
       "      <td>...</td>\n",
       "      <td>...</td>\n",
       "      <td>...</td>\n",
       "      <td>...</td>\n",
       "      <td>...</td>\n",
       "      <td>...</td>\n",
       "      <td>...</td>\n",
       "      <td>...</td>\n",
       "      <td>...</td>\n",
       "      <td>...</td>\n",
       "      <td>...</td>\n",
       "    </tr>\n",
       "    <tr>\n",
       "      <th>1957</th>\n",
       "      <td>1781</td>\n",
       "      <td>13-10-2022</td>\n",
       "      <td>2025-07-21 12:22:00</td>\n",
       "      <td>55</td>\n",
       "      <td>Male</td>\n",
       "      <td>35.0</td>\n",
       "      <td>Beauty</td>\n",
       "      <td>1.0</td>\n",
       "      <td>500.0</td>\n",
       "      <td>225.0</td>\n",
       "      <td>500.0</td>\n",
       "      <td>25-34</td>\n",
       "      <td>2022-10-13</td>\n",
       "      <td>2022-10</td>\n",
       "      <td>Afternoon</td>\n",
       "    </tr>\n",
       "    <tr>\n",
       "      <th>1958</th>\n",
       "      <td>34</td>\n",
       "      <td>24-09-2023</td>\n",
       "      <td>2025-07-21 13:26:00</td>\n",
       "      <td>87</td>\n",
       "      <td>Female</td>\n",
       "      <td>51.0</td>\n",
       "      <td>Clothing</td>\n",
       "      <td>3.0</td>\n",
       "      <td>50.0</td>\n",
       "      <td>17.0</td>\n",
       "      <td>150.0</td>\n",
       "      <td>45-54</td>\n",
       "      <td>2023-09-24</td>\n",
       "      <td>2023-09</td>\n",
       "      <td>Afternoon</td>\n",
       "    </tr>\n",
       "    <tr>\n",
       "      <th>1967</th>\n",
       "      <td>842</td>\n",
       "      <td>28-11-2022</td>\n",
       "      <td>2025-07-21 14:13:00</td>\n",
       "      <td>71</td>\n",
       "      <td>Female</td>\n",
       "      <td>47.0</td>\n",
       "      <td>Clothing</td>\n",
       "      <td>2.0</td>\n",
       "      <td>300.0</td>\n",
       "      <td>105.0</td>\n",
       "      <td>600.0</td>\n",
       "      <td>45-54</td>\n",
       "      <td>2022-11-28</td>\n",
       "      <td>2022-11</td>\n",
       "      <td>Afternoon</td>\n",
       "    </tr>\n",
       "    <tr>\n",
       "      <th>1973</th>\n",
       "      <td>1842</td>\n",
       "      <td>04-10-2022</td>\n",
       "      <td>2025-07-21 14:03:00</td>\n",
       "      <td>84</td>\n",
       "      <td>Female</td>\n",
       "      <td>47.0</td>\n",
       "      <td>Clothing</td>\n",
       "      <td>2.0</td>\n",
       "      <td>300.0</td>\n",
       "      <td>75.0</td>\n",
       "      <td>600.0</td>\n",
       "      <td>45-54</td>\n",
       "      <td>2022-10-04</td>\n",
       "      <td>2022-10</td>\n",
       "      <td>Afternoon</td>\n",
       "    </tr>\n",
       "    <tr>\n",
       "      <th>1996</th>\n",
       "      <td>211</td>\n",
       "      <td>12-09-2022</td>\n",
       "      <td>2025-07-21 14:02:00</td>\n",
       "      <td>54</td>\n",
       "      <td>Male</td>\n",
       "      <td>42.0</td>\n",
       "      <td>Beauty</td>\n",
       "      <td>3.0</td>\n",
       "      <td>500.0</td>\n",
       "      <td>235.0</td>\n",
       "      <td>1500.0</td>\n",
       "      <td>35-44</td>\n",
       "      <td>2022-09-12</td>\n",
       "      <td>2022-09</td>\n",
       "      <td>Afternoon</td>\n",
       "    </tr>\n",
       "  </tbody>\n",
       "</table>\n",
       "<p>457 rows × 15 columns</p>\n",
       "</div>"
      ],
      "text/plain": [
       "      transactions_id   sale_date           sale_time  customer_id  gender  \\\n",
       "2                 559  12-12-2022 2025-07-21 10:48:00            5  Female   \n",
       "7                 303  22-04-2022 2025-07-21 11:09:00           54    Male   \n",
       "15               1610  23-11-2022 2025-07-21 10:18:00            1  Female   \n",
       "19               1032  01-04-2022 2025-07-21 08:15:00            1    Male   \n",
       "50               1679  23-09-2022 2025-07-21 08:08:00           71  Female   \n",
       "...               ...         ...                 ...          ...     ...   \n",
       "1957             1781  13-10-2022 2025-07-21 12:22:00           55    Male   \n",
       "1958               34  24-09-2023 2025-07-21 13:26:00           87  Female   \n",
       "1967              842  28-11-2022 2025-07-21 14:13:00           71  Female   \n",
       "1973             1842  04-10-2022 2025-07-21 14:03:00           84  Female   \n",
       "1996              211  12-09-2022 2025-07-21 14:02:00           54    Male   \n",
       "\n",
       "       age     category  quantiy  price_per_unit   cogs  total_sale age_group  \\\n",
       "2     40.0     Clothing      4.0           300.0   84.0      1200.0     35-44   \n",
       "7     19.0  Electronics      3.0            30.0   14.7        90.0     18-24   \n",
       "15    26.0       Beauty      2.0           300.0  102.0       600.0     25-34   \n",
       "19    30.0       Beauty      3.0            30.0   10.5        90.0     25-34   \n",
       "50    18.0       Beauty      3.0            30.0   15.3        90.0       NaN   \n",
       "...    ...          ...      ...             ...    ...         ...       ...   \n",
       "1957  35.0       Beauty      1.0           500.0  225.0       500.0     25-34   \n",
       "1958  51.0     Clothing      3.0            50.0   17.0       150.0     45-54   \n",
       "1967  47.0     Clothing      2.0           300.0  105.0       600.0     45-54   \n",
       "1973  47.0     Clothing      2.0           300.0   75.0       600.0     45-54   \n",
       "1996  42.0       Beauty      3.0           500.0  235.0      1500.0     35-44   \n",
       "\n",
       "           date    month      shift  \n",
       "2    2022-12-12  2022-12    Morning  \n",
       "7    2022-04-22  2022-04    Morning  \n",
       "15   2022-11-23  2022-11    Morning  \n",
       "19   2022-04-01  2022-04    Morning  \n",
       "50   2022-09-23  2022-09    Morning  \n",
       "...         ...      ...        ...  \n",
       "1957 2022-10-13  2022-10  Afternoon  \n",
       "1958 2023-09-24  2023-09  Afternoon  \n",
       "1967 2022-11-28  2022-11  Afternoon  \n",
       "1973 2022-10-04  2022-10  Afternoon  \n",
       "1996 2022-09-12  2022-09  Afternoon  \n",
       "\n",
       "[457 rows x 15 columns]"
      ]
     },
     "execution_count": 38,
     "metadata": {},
     "output_type": "execute_result"
    }
   ],
   "source": [
    "top_customer_data"
   ]
  },
  {
   "cell_type": "code",
   "execution_count": 40,
   "id": "1ac633f4",
   "metadata": {},
   "outputs": [
    {
     "data": {
      "application/vnd.microsoft.datawrangler.viewer.v0+json": {
       "columns": [
        {
         "name": "index",
         "rawType": "int64",
         "type": "integer"
        },
        {
         "name": "customer_id",
         "rawType": "int64",
         "type": "integer"
        },
        {
         "name": "category",
         "rawType": "object",
         "type": "string"
        },
        {
         "name": "total_sale",
         "rawType": "float64",
         "type": "float"
        }
       ],
       "ref": "9ca08684-6659-42ea-a455-46cdd6c6cb83",
       "rows": [
        [
         "0",
         "1",
         "Beauty",
         "11985.0"
        ],
        [
         "1",
         "1",
         "Clothing",
         "11730.0"
        ],
        [
         "2",
         "1",
         "Electronics",
         "7035.0"
        ],
        [
         "3",
         "2",
         "Beauty",
         "6155.0"
        ],
        [
         "4",
         "2",
         "Clothing",
         "7390.0"
        ],
        [
         "5",
         "2",
         "Electronics",
         "11750.0"
        ],
        [
         "6",
         "3",
         "Beauty",
         "9740.0"
        ],
        [
         "7",
         "3",
         "Clothing",
         "11545.0"
        ],
        [
         "8",
         "3",
         "Electronics",
         "17155.0"
        ],
        [
         "9",
         "4",
         "Beauty",
         "6750.0"
        ],
        [
         "10",
         "4",
         "Clothing",
         "7075.0"
        ],
        [
         "11",
         "4",
         "Electronics",
         "9755.0"
        ],
        [
         "12",
         "5",
         "Beauty",
         "5130.0"
        ],
        [
         "13",
         "5",
         "Clothing",
         "12040.0"
        ],
        [
         "14",
         "5",
         "Electronics",
         "13235.0"
        ],
        [
         "15",
         "54",
         "Beauty",
         "3875.0"
        ],
        [
         "16",
         "54",
         "Clothing",
         "4800.0"
        ],
        [
         "17",
         "54",
         "Electronics",
         "4800.0"
        ],
        [
         "18",
         "55",
         "Beauty",
         "6200.0"
        ],
        [
         "19",
         "55",
         "Clothing",
         "105.0"
        ],
        [
         "20",
         "55",
         "Electronics",
         "5775.0"
        ],
        [
         "21",
         "71",
         "Beauty",
         "1540.0"
        ],
        [
         "22",
         "71",
         "Clothing",
         "4750.0"
        ],
        [
         "23",
         "71",
         "Electronics",
         "6500.0"
        ],
        [
         "24",
         "84",
         "Beauty",
         "4480.0"
        ],
        [
         "25",
         "84",
         "Clothing",
         "2500.0"
        ],
        [
         "26",
         "84",
         "Electronics",
         "4750.0"
        ],
        [
         "27",
         "87",
         "Beauty",
         "4430.0"
        ],
        [
         "28",
         "87",
         "Clothing",
         "3425.0"
        ],
        [
         "29",
         "87",
         "Electronics",
         "8000.0"
        ]
       ],
       "shape": {
        "columns": 3,
        "rows": 30
       }
      },
      "text/html": [
       "<div>\n",
       "<style scoped>\n",
       "    .dataframe tbody tr th:only-of-type {\n",
       "        vertical-align: middle;\n",
       "    }\n",
       "\n",
       "    .dataframe tbody tr th {\n",
       "        vertical-align: top;\n",
       "    }\n",
       "\n",
       "    .dataframe thead th {\n",
       "        text-align: right;\n",
       "    }\n",
       "</style>\n",
       "<table border=\"1\" class=\"dataframe\">\n",
       "  <thead>\n",
       "    <tr style=\"text-align: right;\">\n",
       "      <th></th>\n",
       "      <th>customer_id</th>\n",
       "      <th>category</th>\n",
       "      <th>total_sale</th>\n",
       "    </tr>\n",
       "  </thead>\n",
       "  <tbody>\n",
       "    <tr>\n",
       "      <th>0</th>\n",
       "      <td>1</td>\n",
       "      <td>Beauty</td>\n",
       "      <td>11985.0</td>\n",
       "    </tr>\n",
       "    <tr>\n",
       "      <th>1</th>\n",
       "      <td>1</td>\n",
       "      <td>Clothing</td>\n",
       "      <td>11730.0</td>\n",
       "    </tr>\n",
       "    <tr>\n",
       "      <th>2</th>\n",
       "      <td>1</td>\n",
       "      <td>Electronics</td>\n",
       "      <td>7035.0</td>\n",
       "    </tr>\n",
       "    <tr>\n",
       "      <th>3</th>\n",
       "      <td>2</td>\n",
       "      <td>Beauty</td>\n",
       "      <td>6155.0</td>\n",
       "    </tr>\n",
       "    <tr>\n",
       "      <th>4</th>\n",
       "      <td>2</td>\n",
       "      <td>Clothing</td>\n",
       "      <td>7390.0</td>\n",
       "    </tr>\n",
       "    <tr>\n",
       "      <th>5</th>\n",
       "      <td>2</td>\n",
       "      <td>Electronics</td>\n",
       "      <td>11750.0</td>\n",
       "    </tr>\n",
       "    <tr>\n",
       "      <th>6</th>\n",
       "      <td>3</td>\n",
       "      <td>Beauty</td>\n",
       "      <td>9740.0</td>\n",
       "    </tr>\n",
       "    <tr>\n",
       "      <th>7</th>\n",
       "      <td>3</td>\n",
       "      <td>Clothing</td>\n",
       "      <td>11545.0</td>\n",
       "    </tr>\n",
       "    <tr>\n",
       "      <th>8</th>\n",
       "      <td>3</td>\n",
       "      <td>Electronics</td>\n",
       "      <td>17155.0</td>\n",
       "    </tr>\n",
       "    <tr>\n",
       "      <th>9</th>\n",
       "      <td>4</td>\n",
       "      <td>Beauty</td>\n",
       "      <td>6750.0</td>\n",
       "    </tr>\n",
       "    <tr>\n",
       "      <th>10</th>\n",
       "      <td>4</td>\n",
       "      <td>Clothing</td>\n",
       "      <td>7075.0</td>\n",
       "    </tr>\n",
       "    <tr>\n",
       "      <th>11</th>\n",
       "      <td>4</td>\n",
       "      <td>Electronics</td>\n",
       "      <td>9755.0</td>\n",
       "    </tr>\n",
       "    <tr>\n",
       "      <th>12</th>\n",
       "      <td>5</td>\n",
       "      <td>Beauty</td>\n",
       "      <td>5130.0</td>\n",
       "    </tr>\n",
       "    <tr>\n",
       "      <th>13</th>\n",
       "      <td>5</td>\n",
       "      <td>Clothing</td>\n",
       "      <td>12040.0</td>\n",
       "    </tr>\n",
       "    <tr>\n",
       "      <th>14</th>\n",
       "      <td>5</td>\n",
       "      <td>Electronics</td>\n",
       "      <td>13235.0</td>\n",
       "    </tr>\n",
       "    <tr>\n",
       "      <th>15</th>\n",
       "      <td>54</td>\n",
       "      <td>Beauty</td>\n",
       "      <td>3875.0</td>\n",
       "    </tr>\n",
       "    <tr>\n",
       "      <th>16</th>\n",
       "      <td>54</td>\n",
       "      <td>Clothing</td>\n",
       "      <td>4800.0</td>\n",
       "    </tr>\n",
       "    <tr>\n",
       "      <th>17</th>\n",
       "      <td>54</td>\n",
       "      <td>Electronics</td>\n",
       "      <td>4800.0</td>\n",
       "    </tr>\n",
       "    <tr>\n",
       "      <th>18</th>\n",
       "      <td>55</td>\n",
       "      <td>Beauty</td>\n",
       "      <td>6200.0</td>\n",
       "    </tr>\n",
       "    <tr>\n",
       "      <th>19</th>\n",
       "      <td>55</td>\n",
       "      <td>Clothing</td>\n",
       "      <td>105.0</td>\n",
       "    </tr>\n",
       "    <tr>\n",
       "      <th>20</th>\n",
       "      <td>55</td>\n",
       "      <td>Electronics</td>\n",
       "      <td>5775.0</td>\n",
       "    </tr>\n",
       "    <tr>\n",
       "      <th>21</th>\n",
       "      <td>71</td>\n",
       "      <td>Beauty</td>\n",
       "      <td>1540.0</td>\n",
       "    </tr>\n",
       "    <tr>\n",
       "      <th>22</th>\n",
       "      <td>71</td>\n",
       "      <td>Clothing</td>\n",
       "      <td>4750.0</td>\n",
       "    </tr>\n",
       "    <tr>\n",
       "      <th>23</th>\n",
       "      <td>71</td>\n",
       "      <td>Electronics</td>\n",
       "      <td>6500.0</td>\n",
       "    </tr>\n",
       "    <tr>\n",
       "      <th>24</th>\n",
       "      <td>84</td>\n",
       "      <td>Beauty</td>\n",
       "      <td>4480.0</td>\n",
       "    </tr>\n",
       "    <tr>\n",
       "      <th>25</th>\n",
       "      <td>84</td>\n",
       "      <td>Clothing</td>\n",
       "      <td>2500.0</td>\n",
       "    </tr>\n",
       "    <tr>\n",
       "      <th>26</th>\n",
       "      <td>84</td>\n",
       "      <td>Electronics</td>\n",
       "      <td>4750.0</td>\n",
       "    </tr>\n",
       "    <tr>\n",
       "      <th>27</th>\n",
       "      <td>87</td>\n",
       "      <td>Beauty</td>\n",
       "      <td>4430.0</td>\n",
       "    </tr>\n",
       "    <tr>\n",
       "      <th>28</th>\n",
       "      <td>87</td>\n",
       "      <td>Clothing</td>\n",
       "      <td>3425.0</td>\n",
       "    </tr>\n",
       "    <tr>\n",
       "      <th>29</th>\n",
       "      <td>87</td>\n",
       "      <td>Electronics</td>\n",
       "      <td>8000.0</td>\n",
       "    </tr>\n",
       "  </tbody>\n",
       "</table>\n",
       "</div>"
      ],
      "text/plain": [
       "    customer_id     category  total_sale\n",
       "0             1       Beauty     11985.0\n",
       "1             1     Clothing     11730.0\n",
       "2             1  Electronics      7035.0\n",
       "3             2       Beauty      6155.0\n",
       "4             2     Clothing      7390.0\n",
       "5             2  Electronics     11750.0\n",
       "6             3       Beauty      9740.0\n",
       "7             3     Clothing     11545.0\n",
       "8             3  Electronics     17155.0\n",
       "9             4       Beauty      6750.0\n",
       "10            4     Clothing      7075.0\n",
       "11            4  Electronics      9755.0\n",
       "12            5       Beauty      5130.0\n",
       "13            5     Clothing     12040.0\n",
       "14            5  Electronics     13235.0\n",
       "15           54       Beauty      3875.0\n",
       "16           54     Clothing      4800.0\n",
       "17           54  Electronics      4800.0\n",
       "18           55       Beauty      6200.0\n",
       "19           55     Clothing       105.0\n",
       "20           55  Electronics      5775.0\n",
       "21           71       Beauty      1540.0\n",
       "22           71     Clothing      4750.0\n",
       "23           71  Electronics      6500.0\n",
       "24           84       Beauty      4480.0\n",
       "25           84     Clothing      2500.0\n",
       "26           84  Electronics      4750.0\n",
       "27           87       Beauty      4430.0\n",
       "28           87     Clothing      3425.0\n",
       "29           87  Electronics      8000.0"
      ]
     },
     "execution_count": 40,
     "metadata": {},
     "output_type": "execute_result"
    }
   ],
   "source": [
    "# Step 4: Group by customer and category to get total sales\n",
    "customer_category_sales = top_customer_data.groupby(['customer_id', 'category'])['total_sale'].sum().reset_index()\n",
    "customer_category_sales "
   ]
  },
  {
   "cell_type": "code",
   "execution_count": 48,
   "id": "c009dd45",
   "metadata": {},
   "outputs": [
    {
     "data": {
      "image/png": "[encoded data removed]",
      "text/plain": [
       "<Figure size 1200x600 with 1 Axes>"
      ]
     },
     "metadata": {},
     "output_type": "display_data"
    }
   ],
   "source": [
    "# Step 5: Plot\n",
    "plt.figure(figsize=(12, 6))\n",
    "sns.barplot(data=customer_category_sales, x='customer_id', y='total_sale', hue='category', palette='Set2')\n",
    "plt.title('Top 10 Customers by Total Sales and Their Purchases by Category')\n",
    "plt.xlabel('Customer ID')\n",
    "plt.ylabel('Total Sales')\n",
    "plt.legend(title='Category')\n",
    "plt.tight_layout()\n",
    "plt.show()"
   ]
  },
  {
   "cell_type": "markdown",
   "id": "427b3587",
   "metadata": {},
   "source": [
    " Top Performing Customers\n",
    "- Customer ID 3 is the highest spender overall, especially in the Electronics category.\n",
    "- Customer IDs 1 and 5 also show strong overall sales across all three categories, making them loyal and high-value customers."
   ]
  },
  {
   "cell_type": "code",
   "execution_count": null,
   "id": "e71bda51",
   "metadata": {},
   "outputs": [],
   "source": []
  }
 ],
 "metadata": {
  "kernelspec": {
   "display_name": "Python 3",
   "language": "python",
   "name": "python3"
  },
  "language_info": {
   "codemirror_mode": {
    "name": "ipython",
    "version": 3
   },
   "file_extension": ".py",
   "mimetype": "text/x-python",
   "name": "python",
   "nbconvert_exporter": "python",
   "pygments_lexer": "ipython3",
   "version": "3.11.9"
  }
 },
 "nbformat": 4,
 "nbformat_minor": 5
}
